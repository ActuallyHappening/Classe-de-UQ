{
 "cells": [
  {
   "cell_type": "markdown",
   "metadata": {},
   "source": [
    "## SCIE1000/1100 Practical 3 - Semester 2, 2025 #\n",
    "*Designed by the 2025 SCIE1000 teaching team*"
   ]
  },
  {
   "cell_type": "markdown",
   "metadata": {},
   "source": [
    "This practical focusses on the following material: \n",
    "- Explore how Indigenous knowledges interact in contemporary scientific disciplines\n",
    "- Modelling with power functions\n",
    "- Python from Appendix A.6 _Loops_\n",
    "\n",
    "Please review any material you may have missed prior to the practical.\n",
    "\n",
    "Before you begin this practical, please briefly familiarise yourself with the [UQ Terminology Guide for Aboriginal and Torres Strait Islander peoples](https://about.uq.edu.au/sites/default/files/2024-12/rap-terminology-guide.pdf)."
   ]
  },
  {
   "cell_type": "markdown",
   "metadata": {},
   "source": [
    "**This practical contributes toward your final grade.  Practical grading is explained in the course profile.**"
   ]
  },
  {
   "cell_type": "markdown",
   "metadata": {},
   "source": [
    "## Part 1: Science & Indigenous Knowledges (60 min) ##"
   ]
  },
  {
   "cell_type": "markdown",
   "metadata": {},
   "source": [
    "Your demonstrators will help the class to form groups of up to 5 students. Each group will be assigned a scientific discipline. In 25 minutes, do some online research and prepare a 5-minute group presentation (3 slides) on _how this discipline interacts with Indigenous Knowledges in contemporary science_. \n",
    "Copy the template in this [Google Drive](https://drive.google.com/drive/folders/1TJp81Qgwapal0Vrx6G6ZvUSz9kdxxrmT) and save your version in the folder for your prac group. _Label your file with the topic your group is assigned to and a name you choose for your group_. Randomly chosen groups will be chosen to present their findings to the class - make sure you nominate some members to present (quiet classes will be given alternative instructions). Use your own research and the resources below to inform your presentation:\n",
    "\n",
    "Each group will explore _how Indigenous Knowledges are shaping contemporary scientific research and practice_ in their assigned field. Below are the chosen disciplines and suggested resources to get you started:\n",
    "\n",
    "1. **Ecology & Conservation**\n",
    "- Indigenous Land and Sea Management\n",
    "- Rangers working on Country\n",
    "- Fire management & cultural burning\n",
    "\n",
    "  **Example Resources:**\n",
    "- [Firesticks Alliance:](https://firesticks.org.au/)\n",
    "- [Indigenous Rangers Program:](https://www.niaa.gov.au/indigenous-affairs/environment/indigenous-rangers-working-country)\n",
    "- [Bush Heritage](https://www.bushheritage.org.au/what-we-do/our-priorities/aboriginal)\n",
    "\n",
    "2. **Astronomy & Space Science**\n",
    "- Indigenous star knowledge as complex astronomical systems\n",
    "- Sky maps for navigation and seasonal knowledge\n",
    "\n",
    "  **Example Resources:**\n",
    "- [Cosmic Echoes](https://www.csiro.au/en/news/all/articles/2024/november/cosmic-echoes)\n",
    "- [Star maps](http://www.aboriginalastronomy.com.au/content/topics/starmaps/)\n",
    "\n",
    "3. **Medicine & Pharmacology**\n",
    "- Bush medicine and healing practices: eg. Emu bush (_Eremophila sp._) and _Terminalia ferdinandiana_ (kakadu plum)\n",
    "- Choose one of the above native plants to focus on or another from the list in the link below\n",
    "\n",
    "  **Example Resources:**\n",
    "- [Top 10 Indigenous bush medicines](https://www.australiangeographic.com.au/history-culture/2011/02/top-10-aboriginal-bush-medicines/)\n",
    "- [Bush medicine at UQ](https://www.uq.edu.au/news/article/2018/11/million-dollar-boost-bush-medicines)\n",
    "- [Science backs traditional knowledge of Kakadu plum health benefits](https://news.uq.edu.au/2024-09-18-science-backs-traditional-knowledge-kakadu-plum-health-benefits)\n",
    "- [Bush medicine could make safer implants](https://www.abc.net.au/science/articles/2009/01/22/2472270.htm)\n",
    "- [Biodiscovery Act 2004](https://www.legislation.qld.gov.au/view/html/inforce/current/act-2004-019#sec.3)\n",
    "- [Biodiscovery resource toolkit](https://environment.desi.qld.gov.au/__data/assets/pdf_file/0021/247206/biodiscovery-resource-toolkit.pdf)\n",
    "\n",
    "4. **Palaeontology & Geology**\n",
    "- Indigenous interpretations of fossils and landscape formation\n",
    "- Aboriginal oral histories aligning with geological events\n",
    "\n",
    "  **Example Resources:**\n",
    "- [Sea Country, climate change and Indigenous knowledges](https://www.aspistrategist.org.au/sea-country-climate-change-and-indigenous-knowledge/)\n",
    "- Steve Salisbury’s work with Traditional Custodians on dinosaur fossils \n",
    "    - [UQ Dinosaur Lab](https://dinosaurs.group.uq.edu.au/)\n",
    "    - [The Dinosaur Coast](https://www.dinosaurcoast.org.au/the-dinosaur-coast/)\n",
    "    - [Saving Australia’s Jurassic Park](https://stories.uq.edu.au/shorthand-uq/changemakers/issue3/saving-australias-jurassic-park/)\n",
    "\n",
    "5. **Climate Science & Sustainability**\n",
    "- Indigenous climate adaptation strategies\n",
    "- Traditional ecological knowledge in sustainability\n",
    "\n",
    "  **Example Resources:**\n",
    "- [Climate Council](https://www.climatecouncil.org.au/resources/indigenous-organisations-fighting-for-climate-justice/)\n",
    "- [Indigenous perspectives in IPCC reports](https://theconversation.com/ipcc-reports-still-exclude-indigenous-voices-come-join-us-at-our-sacred-fires-to-find-answers-to-climate-change-178045)\n",
    "\n",
    "5. **SUSTAINABLE RESOURCE SCIENCE**\n",
    "- Traditional knowledge of spinifex resin\n",
    "- Nanotechnology and spinifex grasses\n",
    "\n",
    "  **Example Resources**\n",
    "- [The desert lab and its spinifex secrets](https://stories.uq.edu.au/research/2023/the-desert-lab-and-its-spinifex-secrets/index.html)\n",
    "- [The Point of Spinifex: Aboriginal uses of spinifex grasses in Australia](https://ethnobotanyjournal.org/index.php/era/article/view/621)\n"
   ]
  },
  {
   "cell_type": "markdown",
   "metadata": {},
   "source": [
    "## Part 2: Warm up Python activities (30 minutes) ##"
   ]
  },
  {
   "cell_type": "markdown",
   "metadata": {},
   "source": [
    "#### Task 2.1: A warm up with loops ####\n",
    "\n",
    "Indicate which of the following segments of Python code are infinite loops and explain why. Ask your tutors if you are struggling with how infinite loops come about. \n",
    "\n",
    "Program 1:\n",
    "\n",
    "    a = 1                         \n",
    "    while a <= 10:                \n",
    "        a = a+1                      \n",
    "    print(\"Done, a=\",a)             \n",
    "\n",
    "\n",
    "\n",
    "Program 2:\n",
    "\n",
    "    a = 1\n",
    "    while a != 20:\n",
    "        a = a * 2\n",
    "    print(\"Done, a=\",a)  \n"
   ]
  },
  {
   "cell_type": "markdown",
   "metadata": {},
   "source": [
    "#### Task 2.2: Practising Loops ####\n",
    "\n",
    "By hand, find the output from each of the five following partial Python\n",
    "programs. Write down your answers. Note: all of the programs are different (even if some look similar), so pay close attention!\n",
    "\n",
    "Program 1:\n",
    "\n",
    "        k = 0                              \n",
    "        while k <= 1:                     \n",
    "            print(k)                \n",
    "            k = k + 0.5              \n",
    "        print(\"done\")                   \n",
    " \n",
    "\n",
    "\n",
    "Program 2:\n",
    "\n",
    "        a = 2            \n",
    "        b = 50          \n",
    "        while b > a:   \n",
    "            a = a * 3 \n",
    "            b = b + 1    \n",
    "            print(a,b)  \n",
    "\n",
    "\n",
    "\n",
    "Program 3:\n",
    "\n",
    "        a = 2            \n",
    "        b = 50          \n",
    "        while b > a:   \n",
    "            a = a * 3 \n",
    "            b = b + 1    \n",
    "        print(a,b)\n",
    "\n",
    "\n",
    "\n",
    "Program 4:\n",
    "\n",
    "       for i in range(3,9):   \n",
    "           print(i*2+3)  "
   ]
  },
  {
   "cell_type": "code",
   "execution_count": 2,
   "metadata": {},
   "outputs": [],
   "source": [
    "# Paste code here, one program at a time"
   ]
  },
  {
   "cell_type": "markdown",
   "metadata": {},
   "source": [
    "## Part 3: Non-linear power models (20 minutes) ##"
   ]
  },
  {
   "cell_type": "markdown",
   "metadata": {},
   "source": [
    "#### Task 3.1: Mexican Cloud Forests ####\n",
    "\n",
    "A research paper by [Ponce-Reyes *et al.* (2012)](http://www.nature.com/nclimate/journal/v2/n6/full/nclimate1453.html?message-global=remove) (from researchers in ecology at UQ) predicts the \n",
    "extinction rates of endemic vertebrate species in Mexican cloud forests. Here is an edited extract from that paper:\n",
    "\n",
    ">The species-area relationship had the form of $S=cA^z$,\n",
    "where $S$ is the number of species, $A$ is habitat area and $c$ and $z$ are constants. We used $z=0.25$ given that cloud forest is a fragmented\n",
    "habitat with high species richness. Values of $A$ corresponding to present cloud\n",
    "forest, its predicted future extent under climate change and the remaining\n",
    "cloud forest that overlaps protected areas are, respectively, $A_0=17274$ km$^2$,\n",
    "$A_1=5557$ km$^2$ and $A_2=151$ km$^2$. Values of $A$, together with species richness and\n",
    "extinction estimates for these regions ($S_0$, $S_1$ and $S_2$ respectively), are shown in the \n",
    "table.\n",
    "$$$$\n",
    "\n",
    "$S_0$ (number) | $A_0$ (km$^2$) | $S_1$ (predicted) | $A_1$ (km$^2$) | $S_2$ (predicted) | $A_2$ (km$^2$)  \n",
    ":----:|:----:|:----:|:----:|:----:|:----:  \n",
    "37 | 17274 | 28 | 5557 | ? | 151  \n",
    "\n",
    "\n",
    "\n",
    "1. Show how to use the values of $S_0$, $A_0$ and $z$ to compute that the value of $c$ is 3.227. Then, calculate the missing $S_2$ value in the table.\n",
    "\n",
    "\n",
    "2. Use the model to calculate the area of cloud forest that would be required to support $S=5$\n",
    "vertebrate species. Is this likely to be realistic? Why or why not?\n",
    "\n",
    "\n",
    "Ponce-Reyes *et al.* (2012) also made comparisons between population distributions in two different cloud forest regions.\n",
    "In the table below, $A_0$ is the current area of cloud forest in two regions, $A_1$ is the predicted area in 2080 after climate change, and $A_2$ is the predicted area after climate change and forest clearing (here areas are measured in km$^2$). \n",
    "The corresponding numbers of endemic vertebrate species are $S_0$ (current), $S_1$ and $S_2$.\n",
    "\n",
    "$$$$\n",
    "\n",
    "Region | $S_0$ | $A_0$ | $S_1$ | $A_1$ | $S_2$ | $A_2$ \n",
    "----|--|--|--|--|--|--\n",
    "Oaxaca |26|5160|21|2326|9|65            \n",
    "Chiapas|3|6037|2|797|1|45   \n",
    " \n",
    "\n",
    "\n",
    "3. Which of Oaxaca or Chiapas would you suggest as the location for a new national park? Why? What other factors (apart from those listed in the table) might influence your advice?\n",
    "\n",
    "References: Ponce-Reyes *et al.*, *Vulnerability of cloud forest reserves in Mexico to climate change*, Nature Climate Change **2** (2012), 448--52.\n",
    "\n",
    "**We will be revisiting power models in future pracs**\n"
   ]
  },
  {
   "cell_type": "code",
   "execution_count": 3,
   "metadata": {},
   "outputs": [
    {
     "name": "stdout",
     "output_type": "stream",
     "text": [
      "c=3.2274052063137235\n",
      "S_2=11.313519560816895\n"
     ]
    },
    {
     "ename": "NameError",
     "evalue": "name 'math' is not defined",
     "output_type": "error",
     "traceback": [
      "\u001b[31m---------------------------------------------------------------------------\u001b[39m",
      "\u001b[31mNameError\u001b[39m                                 Traceback (most recent call last)",
      "\u001b[36mCell\u001b[39m\u001b[36m \u001b[39m\u001b[32mIn[3]\u001b[39m\u001b[32m, line 15\u001b[39m\n\u001b[32m     12\u001b[39m \u001b[38;5;28;01mfrom\u001b[39;00m\u001b[38;5;250m \u001b[39m\u001b[34;01mmath\u001b[39;00m\u001b[38;5;250m \u001b[39m\u001b[38;5;28;01mimport\u001b[39;00m e, log\n\u001b[32m     14\u001b[39m S_a = \u001b[32m5\u001b[39m\n\u001b[32m---> \u001b[39m\u001b[32m15\u001b[39m A_a = \u001b[43mmath\u001b[49m.e ** (log(S_a / c) / z)\n\u001b[32m     16\u001b[39m \u001b[38;5;28mprint\u001b[39m(\u001b[33mf\u001b[39m\u001b[33m\"\u001b[39m\u001b[38;5;132;01m{\u001b[39;00mA_a\u001b[38;5;132;01m=}\u001b[39;00m\u001b[33m\"\u001b[39m)\n",
      "\u001b[31mNameError\u001b[39m: name 'math' is not defined"
     ]
    }
   ],
   "source": [
    "# S = cA^z\n",
    "S_0 = 37\n",
    "A_0 = 17274\n",
    "z = 0.25\n",
    "c = S_0 / A_0**z\n",
    "print(f\"{c=}\")\n",
    "\n",
    "A_2 = 151\n",
    "S_2 = c * A_2**z\n",
    "print(f\"{S_2=}\")\n",
    "\n",
    "from math import e, log\n",
    "\n",
    "S_a = 5\n",
    "A_a = math.e ** (log(S_a / c) / z)\n",
    "print(f\"{A_a=}\")"
   ]
  },
  {
   "cell_type": "markdown",
   "metadata": {},
   "source": [
    "## Part 4: Further problems ##\n",
    "\n",
    "These problems are provided for further practice either during or after the practical."
   ]
  },
  {
   "cell_type": "markdown",
   "metadata": {},
   "source": [
    "#### Task 4.1: Margarine Consumption ####\n",
    "\n",
    "Consider the following data from the USA, found on the very entertaining website http://www.tylervigen.com/spurious-correlations.  The data were taken from the US National Vital Statistics Reports and U.S. Department of Agriculture.\n",
    "\n",
    "Year | Annual margarine consumption per person (pounds) | Annual divorces in Maine per 1000 people|\n",
    "-----:|:-------------------------------------------:|:--------------------------------------------:|\n",
    "2000 |                8.2                        |                    5.0                     \n",
    "2001 |                7.0                        |                    4.7                     \n",
    "2002 |                6.5                        |                    4.6                     \n",
    "2003 |                5.3                        |                    4.4                     \n",
    "2004 |                5.2                        |                    4.3                     \n",
    "2005 |                4.0                        |                    4.1                     \n",
    "2006 |                4.6                        |                    4.2                     \n",
    "2007 |                4.5                        |                    4.2                     \n",
    "2008 |                4.2                        |                    4.2                     \n",
    "2009 |                3.7                        |                    4.1                     \n",
    "\n",
    "Below is a plot of the data from the above table. This plot was made with Python. If you are viewing the .ipynb file for this practical, you may need to run the code in the cell below to see the graph.  Don't worry if you do not understand all of that code yet -  you will learn how to plot in Python later in semester.\n",
    "\n",
    "Note that the axes are labelled and include units where relevant.  \n",
    "\n",
    "\n",
    "1. Find a linear model which relates the annual divorces in Maine per 1000 people (dependent variable) to the annual margarine consumption per person (independent variable). You should calculate values for the slope and vertical intercept. You should include whatever communication in your solutions that you think would be required to convey your working. \n",
    "\n",
    "\n",
    "2. Write a paragraph interpreting, or explaining, or disagreeing with the following: \"When done in isolation, phenomenological modelling can lead to nonsense.  Mechanistic modelling without a nod to data can be just as silly.  In order to be confident in the predictive power of one's model, one must marry the explanatory power of mechanistic modelling with the reassurance of phenomenological modelling.\" \n",
    "\n",
    "\n",
    "3. Ask another person to rate your communication for this question. Does your model seem reasonable? Did you remember to give units? Was your paragraph clear, precise and concise?"
   ]
  },
  {
   "cell_type": "code",
   "execution_count": 4,
   "metadata": {},
   "outputs": [
    {
     "ename": "ModuleNotFoundError",
     "evalue": "No module named 'numpy'",
     "output_type": "error",
     "traceback": [
      "\u001b[31m---------------------------------------------------------------------------\u001b[39m",
      "\u001b[31mModuleNotFoundError\u001b[39m                       Traceback (most recent call last)",
      "\u001b[36mCell\u001b[39m\u001b[36m \u001b[39m\u001b[32mIn[4]\u001b[39m\u001b[32m, line 1\u001b[39m\n\u001b[32m----> \u001b[39m\u001b[32m1\u001b[39m \u001b[38;5;28;01mimport\u001b[39;00m\u001b[38;5;250m \u001b[39m\u001b[34;01mnumpy\u001b[39;00m\u001b[38;5;250m \u001b[39m\u001b[38;5;28;01mas\u001b[39;00m\u001b[38;5;250m \u001b[39m\u001b[34;01mnp\u001b[39;00m\n\u001b[32m      2\u001b[39m \u001b[38;5;28;01mimport\u001b[39;00m\u001b[38;5;250m \u001b[39m\u001b[34;01mmatplotlib\u001b[39;00m\u001b[34;01m.\u001b[39;00m\u001b[34;01mpyplot\u001b[39;00m\u001b[38;5;250m \u001b[39m\u001b[38;5;28;01mas\u001b[39;00m\u001b[38;5;250m \u001b[39m\u001b[34;01mplt\u001b[39;00m\n\u001b[32m      4\u001b[39m \u001b[38;5;66;03m# Data on the consumption of margarine (in pounds) and divorce rate per 1000 people in Maine from 2000 to 2009\u001b[39;00m\n",
      "\u001b[31mModuleNotFoundError\u001b[39m: No module named 'numpy'"
     ]
    }
   ],
   "source": [
    "import numpy as np\n",
    "import matplotlib.pyplot as plt\n",
    "\n",
    "# Data on the consumption of margarine (in pounds) and divorce rate per 1000 people in Maine from 2000 to 2009\n",
    "margarineData = np.array([8.2, 7.0, 6.5, 5.3, 5.2, 4.0, 4.6, 4.5, 4.2, 3.7])\n",
    "divorceData = np.array([5.0, 4.7, 4.6, 4.4, 4.3, 4.1, 4.2, 4.2, 4.2, 4.1])\n",
    "\n",
    "# Plot a graph with these data\n",
    "plt.plot(margarineData, divorceData, \"bx\", markersize=6)\n",
    "plt.xlabel(\"Annual margarine consumption per person (pounds)\")\n",
    "plt.ylabel(\"Annual divorces in Maine per 1000 people\")\n",
    "plt.show()"
   ]
  },
  {
   "cell_type": "markdown",
   "metadata": {},
   "source": [
    "#### Task 4.2: Paper-scissors-rock ####\n",
    "\n",
    "[_Scissors-Paper-Rock_](https://en.wikipedia.org/wiki/Rock%E2%80%93paper%E2%80%93scissors), or [_Rock, Paper, Scissors_](https://en.wikipedia.org/wiki/Rock%E2%80%93paper%E2%80%93scissors) is a popular children's game, sometimes used by adults to determine a loser, who has to do the washing up or perform some other unpleasant task.\n",
    "\n",
    "To play the game, two opponents simultaneously choose one of *Scissors*, or *Paper*, or *Rock*. If both opponents make the same choice, the game is tied and should be played again. Otherwise, if one player chooses _Scissors_ and the other chooses _Paper_, then the player who chose _Scissors_ wins. Similarly, _Paper_ beats _Rock_, and _Rock_ beats _Scissors_.\n",
    "\n",
    "(The Big Bang Theory TV series proposes a [variant](http://bigbangtheory.wikia.com/wiki/Rock_Paper_Scissors_Lizard_Spock) of this game.)\n",
    "\n",
    "The following Python code allows the computer to choose one of _Scissors_, _Paper_ or _Rock_ at random.\n",
    "\n",
    "    import numpy as np\n",
    "    computer = np.random.randint(1,4)\n",
    "    if computer == 1:\n",
    "        print(\"Computer chooses scissors\")\n",
    "    elif computer == 2:\n",
    "        print(\"Computer chooses paper\")\n",
    "    else:\n",
    "        print(\"Computer chooses rock\")\n",
    "        \n",
    "Paste the previous code into the following Python cell , and then create a program that:\n",
    "\n",
    "   * Asks the user to input their choice of 1 (_Scissors_), 2 (_Paper_) or 3 (_Rock_)\n",
    "   * If the game is tied, prints out a message.\n",
    "   * Otherwise, identifies whether computer or the user wins the game."
   ]
  },
  {
   "cell_type": "code",
   "execution_count": 12,
   "metadata": {},
   "outputs": [
    {
     "name": "stdin",
     "output_type": "stream",
     "text": [
      "Choose (1 = Scissors, 2 = Paper, 3 = Rock 1\n"
     ]
    },
    {
     "name": "stdout",
     "output_type": "stream",
     "text": [
      "You chose Scissors\n",
      "You lose\n"
     ]
    }
   ],
   "source": [
    "import numpy as np\n",
    "\n",
    "computer = np.random.randint(1, 4)\n",
    "\n",
    "\n",
    "def name(num: int) -> str:\n",
    "    match num:\n",
    "        case 1:\n",
    "            return \"Scissors\"\n",
    "        case 2:\n",
    "            return \"Paper\"\n",
    "        case 3:\n",
    "            return \"Rock\"\n",
    "        case _:\n",
    "            raise ValueError(f\"Number {num} not in range 1..=3\")\n",
    "\n",
    "\n",
    "human = int(input(f\"Choose (1 = {name(1)}, 2 = {name(2)}, 3 = {name(3)}\"))\n",
    "print(f\"You chose {name(human)}\")\n",
    "\n",
    "\n",
    "def winner(base: int, player: int) -> None | bool:\n",
    "    if base == player:\n",
    "        return None\n",
    "    if player == base + 1:\n",
    "        return True\n",
    "    elif base == player + 1:\n",
    "        return False\n",
    "    else:\n",
    "        raise ValueError(f\"Number {num} not in range 1..=3\")\n",
    "\n",
    "\n",
    "match winner(computer, human):\n",
    "    case None:\n",
    "        print(\"A tie\")\n",
    "    case True:\n",
    "        print(\"You win!\")\n",
    "    case False:\n",
    "        print(\"You lose\")"
   ]
  },
  {
   "cell_type": "markdown",
   "metadata": {},
   "source": [
    "#### Task 4.3: Paper-scissors-rock modified ####\n",
    "\n",
    "Modify your previous program in the following Python cell so that the game is now played five times in succession, with a final message indicating how many games each player won, and who was the overall winner (or that the overall result was a tie). "
   ]
  },
  {
   "cell_type": "code",
   "execution_count": 18,
   "metadata": {},
   "outputs": [
    {
     "name": "stdin",
     "output_type": "stream",
     "text": [
      "Choose (1 = Scissors, 2 = Paper, 3 = Rock 1\n"
     ]
    },
    {
     "name": "stdout",
     "output_type": "stream",
     "text": [
      "You chose Scissors\n",
      "You win!\n"
     ]
    },
    {
     "name": "stdin",
     "output_type": "stream",
     "text": [
      "Choose (1 = Scissors, 2 = Paper, 3 = Rock 1\n"
     ]
    },
    {
     "name": "stdout",
     "output_type": "stream",
     "text": [
      "You chose Scissors\n",
      "You win!\n"
     ]
    },
    {
     "name": "stdin",
     "output_type": "stream",
     "text": [
      "Choose (1 = Scissors, 2 = Paper, 3 = Rock 1\n"
     ]
    },
    {
     "name": "stdout",
     "output_type": "stream",
     "text": [
      "You chose Scissors\n",
      "You lose\n"
     ]
    },
    {
     "name": "stdin",
     "output_type": "stream",
     "text": [
      "Choose (1 = Scissors, 2 = Paper, 3 = Rock 1\n"
     ]
    },
    {
     "name": "stdout",
     "output_type": "stream",
     "text": [
      "You chose Scissors\n",
      "You lose\n"
     ]
    },
    {
     "name": "stdin",
     "output_type": "stream",
     "text": [
      "Choose (1 = Scissors, 2 = Paper, 3 = Rock 1\n"
     ]
    },
    {
     "name": "stdout",
     "output_type": "stream",
     "text": [
      "You chose Scissors\n",
      "A tie\n",
      "You won 2 game/s\n"
     ]
    }
   ],
   "source": [
    "# Write your program for Task 4.3 here\n",
    "\n",
    "import numpy as np\n",
    "\n",
    "human_wins = 0\n",
    "\n",
    "\n",
    "def name(num: int) -> str:\n",
    "    match num:\n",
    "        case 1:\n",
    "            return \"Scissors\"\n",
    "        case 2:\n",
    "            return \"Paper\"\n",
    "        case 3:\n",
    "            return \"Rock\"\n",
    "        case _:\n",
    "            raise ValueError(f\"Number {num} not in range 1..=3\")\n",
    "\n",
    "\n",
    "def winner(base: int, player: int) -> None | bool:\n",
    "    if base == player:\n",
    "        return None\n",
    "    if player == (base - 1) % 3:\n",
    "        return True\n",
    "    elif base == (player - 1) % 3:\n",
    "        return False\n",
    "    else:\n",
    "        raise ValueError(f\"Number {base} or {player} not in range 1..=3\")\n",
    "\n",
    "\n",
    "def versus():\n",
    "    # I can feel it coming ...\n",
    "    global human_wins\n",
    "\n",
    "    computer = np.random.randint(1, 4)\n",
    "\n",
    "    human = int(input(f\"Choose (1 = {name(1)}, 2 = {name(2)}, 3 = {name(3)}\"))\n",
    "    print(f\"You chose {name(human)}\")\n",
    "\n",
    "    match winner(computer, human):\n",
    "        case None:\n",
    "            print(\"A tie\")\n",
    "        case True:\n",
    "            print(\"You win!\")\n",
    "            human_wins = human_wins + 1\n",
    "        case False:\n",
    "            print(\"You lose\")\n",
    "\n",
    "\n",
    "for _ in range(0, 5):\n",
    "    versus()\n",
    "\n",
    "print(f\"You won {human_wins} game/s\")"
   ]
  }
 ],
 "metadata": {
  "anaconda-cloud": {},
  "celltoolbar": "Raw Cell Format",
  "kernelspec": {
   "display_name": "Python 3 (ipykernel)",
   "language": "python",
   "name": "python3"
  },
  "language_info": {
   "codemirror_mode": {
    "name": "ipython",
    "version": 3
   },
   "file_extension": ".py",
   "mimetype": "text/x-python",
   "name": "python",
   "nbconvert_exporter": "python",
   "pygments_lexer": "ipython3",
   "version": "3.13.5"
  }
 },
 "nbformat": 4,
 "nbformat_minor": 4
}
