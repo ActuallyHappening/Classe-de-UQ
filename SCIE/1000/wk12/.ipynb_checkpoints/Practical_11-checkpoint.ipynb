{
 "cells": [
  {
   "cell_type": "markdown",
   "metadata": {},
   "source": [
    "## SCIE1000/1100 Practical 11 - Semester 2, 2025 #"
   ]
  },
  {
   "cell_type": "markdown",
   "metadata": {},
   "source": [
    "This practical focusses on the following material: \n",
    "- Science and modelling content from Lecture 11.\n",
    "\n",
    "\n",
    "- Python from throughout the course.\n",
    "\n",
    "\n",
    "- Communication building further on the principles that have been introduced.\n",
    "\n",
    "Please review any course material you may have missed prior to the Practical."
   ]
  },
  {
   "cell_type": "markdown",
   "metadata": {},
   "source": [
    "**This practical contributes toward your final grade.  Practical grading is explained in the Practical exercises folder on Blackboard**\n",
    "\n",
    "**Goals**:   In this practical we will be looking at differential equations (DEs). This will include understanding how to construct and analyse a DE and how to solve it using Euler's method.\n",
    "\n",
    "The aim of the computing component of this practical is to consolidate your understanding of Python as applied to scientific contexts.\n",
    "Support for these Python concepts is available: see Appendix A of the course notes, ask on the course discussion board, make use of lecturer office hours, or attend the Python Class.\n",
    "\n",
    "In the communication component of this practical, we will continue to use the four principles for effective communication.\n"
   ]
  },
  {
   "cell_type": "markdown",
   "metadata": {},
   "source": [
    "## Part 1: Course and teaching feedback (15 minutes) ##"
   ]
  },
  {
   "cell_type": "markdown",
   "metadata": {},
   "source": [
    "#### Task 1.1: Reflecting on the course ####\n",
    "\n",
    "Please take some time to complete the course and teaching surveys. See the relevant Blackboard announcement.\n",
    "We greatly value your feedback and use it to continually improve the course and our teaching."
   ]
  },
  {
   "cell_type": "markdown",
   "metadata": {},
   "source": [
    "## Part 2: Examples of DEs (40 minutes) ##"
   ]
  },
  {
   "cell_type": "markdown",
   "metadata": {},
   "source": [
    "#### Task 2.1: Modelling constrained growth ####\n",
    "\n",
    "(This question is adapted from a question on the final examination in 2010.)\n",
    "\n",
    "The [_von Bertalanffy growth model_](https://en.wikipedia.org/wiki/Ludwig_von_Bertalanffy#Individual_growth_model) states that the rate of increase in the length $L(t)$ of a shark of age $t$ in years is proportional to the difference between a fixed maximum length $M$ and its current length $L(t)$.  In lectures we saw that the appropriate differential equation (DE) for the length of a shark at any time is $L' = r(M-L)$ where $r$ represents the proportional constant (assume that $r$ is positive).\n",
    "\n",
    "\n",
    "   1. Explain carefully what this DE predicts would happen if a mutant shark were born with a length larger than $M$.\n",
    "\n",
    "> The shark's length would decrease logarithmically until it reaches M\n",
    "\n",
    "   2. This DE can be solved to give a solution $L(t) = M-(M-L_0)e^{-rt}$ where $L_0$ is the length of the shark at time $t=0$ when it is born.  A certain shark is born with length equal to $M/2$. At what \n",
    "time does the model predict that the shark will have length equal to $M$? Justify your answer.\n",
    "\n",
    "> \n",
    "\n",
    "   3. For a particular shark, $M=3$ m, $L_0=0.5$ m, $t$ is measured in years and $r=0.15$ per year.\n",
    "   \n",
    "      (a) Find the time at which the shark reaches 2 m in length.  \n",
    "      (b) Draw a rough sketch of the length of the shark, for values of $t$ between 0 and 30 years. \n",
    "\n",
    "\n",
    "   4. The DE in Part 3 has an exact solution of $L(t) = 3-2.5e^{-0.15t}.$ In the following Python cell, write a Python program that plots a graph of the exact solution from the time the shark is born until $t=25$ years.\n",
    "     \n",
    "\n"
   ]
  },
  {
   "cell_type": "code",
   "execution_count": 3,
   "metadata": {
    "collapsed": true,
    "jupyter": {
     "outputs_hidden": true
    }
   },
   "outputs": [],
   "source": [
    "# Write your program here\n",
    "\n",
    "import numpy as np\n",
    "import matplotlib.pyplot as plt\n"
   ]
  },
  {
   "cell_type": "markdown",
   "metadata": {},
   "source": [
    "#### Task 2.2: Algae growth - exponential ####\n",
    "\n",
    "A biologist models the growth of a certain species of algae over a given time period. Let $P(t)$ be the population of algae per mL of water at any time $t$ in hours.\n",
    "\n",
    "   1. The biologist believes that the population satisfies the differential equation $P'=kP$, where $k$ is a constant.\n",
    "Explain briefly what this equation means. What is the physical meaning of the constant $k$? What are the units of $k$?\n",
    "\n",
    "\n",
    "   2. Recall from lectures that $P(t)=Ae^{kt}$ is a solution to the DE in Part 1, where $A$ is a constant representing the initial population of algae per mL of water. The biologist's experiments show that at time $t=2$ hours, $P(2)=200$ per mL of water, and at time $t=6$ hours, $P(6)=400$ per mL. Find an equation for the population $P(t)$. (Round the value of the constant $A$ to zero decimal places, and the value of $k$ to three decimal places.)\n",
    "\n",
    "\n",
    "   3. The biologist asks you whether their model for $P(t)$ in Part 2 is likely to be realistic over an extended time period. Respond to this question, with reasons justifying your answer. (You should include a rough sketch of the algae population over time as predicted by the model. If you believe their model is inaccurate, include a rough sketch of what you believe is a more accurate prediction of the population over time.)\n"
   ]
  },
  {
   "cell_type": "markdown",
   "metadata": {},
   "source": [
    "## Part 3: Applying Euler's method (55 minutes) ##"
   ]
  },
  {
   "cell_type": "markdown",
   "metadata": {},
   "source": [
    "#### Task 3.1: Algae growth - logistic ####\n",
    "\n",
    "A biologist models the growth of a certain species of algae over a given time period. Let $P(t)$ be the population of algae per mL of water at any time $t$ in hours.\n",
    "\n",
    "   1. A DE for modelling the\n",
    "population of algae is the logistic DE, \n",
    "$$$$\n",
    "$$P'=k(1-\\displaystyle\\frac{P}{T})P.$$\n",
    "$$$$\n",
    "Explain briefly\n",
    "what this equation means. What is the physical meaning of the term\n",
    "$\\left(1-\\displaystyle\\frac{P}{T}\\right)$?\n",
    "\n",
    "\n",
    "   2. What does the logistic differential equation predict will\n",
    "happen to the population of algae over time if the initial population is\n",
    "$2T$? Justify your answer briefly.\n",
    "\n",
    "\n",
    "   3. For a particular algae species, $T=500$ per mL and $k=0.1$ per\n",
    "hour. At time $t=0$ hours the population is 100 per mL.\n",
    "Apply **two** iterations of Euler's method with a step size of $0.5$ hours\n",
    "to predict the population at $t=1$ hour. Show all work."
   ]
  },
  {
   "cell_type": "markdown",
   "metadata": {},
   "source": [
    "#### Task 3.2: Colonisation around deep sea hydrothermal vents ####\n",
    "\n",
    "(This question is adapted from a question on the final examination in semester 1, 2022.)\n",
    "\n",
    "\n",
    "A paper by Mullineaux et al. (2018) discusses models for meta-populations in the region around deep sea hydrothermal vents.  These create a 'patchwork' of sea floor habitats that host their own ecosystems. Quoting from  Mullineaux et al. (2018):\n",
    ">Imagine a large number of habitat patches, $N$, of which $X(t)$ are occupied at time $t$. The remainder, $N - X(t)$, are empty and available for colonization by individuals dispersing from the occupied patches. Imagine that each occupied patch produces potential colonizers at the rate $c$. These propagules settle, randomly, on any patch; a fraction $(N - X)/N$ land on empty patches that they colonize. The total colonization rate is then $cX(N - X)/N$. \n",
    "\n",
    "\n",
    "The differential equation for the number of occupied patches is\n",
    "$$\n",
    "X' = c X \\left( \\frac{N - X}{N} \\right) - d X.\n",
    "$$\n",
    "\n",
    "\n",
    " 1. Explain the effect of the term $-d X$, assuming that $d$ is positive.  Give a plausible physical interpretation of the constant $d$.\n",
    "\n",
    "\n",
    " 2. Find the value of $X$ after one year using Euler's method for the following parameters: $c = 3.4$ year$^{-1}$, $d = 1.6$ year$^{-1}$, $N = 1000$, and $X(0) = 10$, using a time step of $h = 0.5$ years.\n",
    "\n",
    "\n",
    " 3. The following partial program uses Euler's method to estimate some values taken by the solution to the DE, $X'=3.4(\\frac{1000-X}{1000})-1.6X$, with initial condition $X(0)=10$ and a step size of $h = 0.5$ years. The code is also in a cell below.  Run the code and consider the output.  This output should match the values you obtained in part 2.  Ask a tutor or lecturer if you have any questions about this code.\n",
    "\n",
    "            import numpy as np\n",
    "            import matplotlib.pyplot as plt\n",
    "\n",
    "            def Xdash(X):\n",
    "                return (3.4 * X * (1000-X)/1000 - 1.6 * X)\n",
    "\n",
    "            # set some constants related to Euler's method\n",
    "            step_size = 0.5\n",
    "            num_steps = 2\n",
    "            initial_X = 10\n",
    "\n",
    "            t_array = np.arange(0, num_steps*step_size+step_size/2, step_size)\n",
    "            X =  np.zeros(int(num_steps+1))\n",
    "            i = 0\n",
    "            X[0] = initial_X\n",
    "            print(\"step # \\t Time \\t X\")\n",
    "            print(\" \\t (years) \\t \")\n",
    "            print(\"-------------------------------------\")\n",
    "            print(i, \"\\t\", round(i*step_size, 2), \"\\t\", round(X[i], 2))\n",
    "\n",
    "            while i<num_steps:\n",
    "                X[i+1] = X[i] + step_size * Xdash(X[i])\n",
    "                i = i + 1\n",
    "                print(i, \"\\t\", round(i*step_size, 2), \"\\t\", round(X[i], 2))\n",
    "            print(\"-------------------------------------\")\n",
    "\n",
    "            plt.plot(t_array, X, 'bo--')\n",
    "            plt.title(\"Calculated number of occupied patches near a deep sea thermal vent\")\n",
    "            plt.xlabel(\"Time (years)\")\n",
    "            plt.ylabel(\"Number of occupied patches\")\n",
    "            plt.show()\n",
    "\n",
    "\n",
    " 4. Modify the previous program so that it now estimates the number of occupied for five years (rather than one).  Keep the step size as before 0.5 years.\n",
    "\n",
    "\n",
    " 5. Modify the previous program so that it now uses an appropriate number of steps of Euler's method and a step size of 0.1 years to estimate the number of occupied patches after 5 years. You might like to also modify the plot command to plot only a solid line.\n",
    "\n",
    "\n",
    " 6. What differences did you observe between the output of the program from part 4 and part 5? What does the long-term behaviour seem to be? (Eg. is the value of $X$ approaching a number?)\n",
    "\n",
    "\n",
    " 7. Modify the previous prgram so that it now starts with initial condition $X(0)$ = 800.  What does the long-term behaviour of this model seem to be?\n",
    "\n",
    "\n",
    " 8. For the DE $X' = c X \\left( \\frac{N - X}{N} \\right) - d X$, explain the long time behaviour by finding the value of the asymptote in terms of $c$ and $d$. (Hint: set $X'=0$ and solve for $X$).  Does this appear consistent with the results in part 6 and 7 for the specific values $c = 3.4$ year$^{-1}$, $d = 1.6$ year$^{-1}$?\n",
    "\n",
    "\n",
    " 9. The program we have been using in this question has very few comments.  Add at least two comments that would improve the communication to someone who was going to be responsible for updating this code in the future.\n",
    "\n",
    "\n",
    "Sources: \n",
    "- Lauren S. Mullineaux et al., “Exploring the Ecology of Deep-Sea Hydrothermal Vents in a Metacommunity Framework,” Frontiers in Marine Science 5 (2018)."
   ]
  },
  {
   "cell_type": "code",
   "execution_count": null,
   "metadata": {},
   "outputs": [],
   "source": [
    "# Program needed for Task 3.2 parts 3, 4, 5 and 7\n",
    "\n",
    "import numpy as np\n",
    "import matplotlib.pyplot as plt\n",
    "\n",
    "def Xdash(X):\n",
    "    return (3.4 * X * (1000-X)/1000 - 1.6 * X)\n",
    "\n",
    "# set some constants related to Euler's method\n",
    "step_size = 0.5\n",
    "num_steps = 2\n",
    "initial_X = 10\n",
    "\n",
    "t_array = np.arange(0, num_steps*step_size+step_size/2, step_size)\n",
    "X =  np.zeros(int(num_steps+1))\n",
    "i = 0\n",
    "X[0] = initial_X\n",
    "print(\"step # \\t Time \\t X\")\n",
    "print(\" \\t (years) \\t \")\n",
    "print(\"-------------------------------------\")\n",
    "print(i, \"\\t\", round(i*step_size, 2), \"\\t\", round(X[i], 2))\n",
    "\n",
    "while i<num_steps:\n",
    "    X[i+1] = X[i] + step_size * Xdash(X[i])\n",
    "    i = i + 1\n",
    "    print(i, \"\\t\", round(i*step_size, 2), \"\\t\", round(X[i], 2))\n",
    "print(\"-------------------------------------\")\n",
    "\n",
    "plt.plot(t_array, X, 'bo--')\n",
    "plt.title(\"Calculated number of occupied patches near a deep sea thermal vent\")\n",
    "plt.xlabel(\"Time (years)\")\n",
    "plt.ylabel(\"Number of occupied patches X\")\n",
    "plt.show()"
   ]
  },
  {
   "cell_type": "markdown",
   "metadata": {},
   "source": [
    "## Part 4: Further problems ##\n",
    "\n",
    "These problems are provided for further practice either during or after the practical."
   ]
  },
  {
   "cell_type": "markdown",
   "metadata": {},
   "source": [
    "#### Task 4.1: Functions and DEs ####\n",
    "\n",
    "(This question was on the final examination in 2009.)\n",
    "\n",
    "Here are the general forms of six equations used for modelling in SCIE1000.  In each case, let $y$ be the phenomenon being \n",
    "modelled, $t$ be the variable time, and $a, b$ and $c$ be positive constants.\n",
    "\n",
    "   * (1) $\\quad$ $y(t) = at + b$ \n",
    "   * (2) $\\quad$ $y(t) = at^b$\n",
    "   * (3) $\\quad$ $y(t) = a\\sin (b t)$ \n",
    "   * (4) $\\quad$ $y(t) = ae^{bt}$\n",
    "   * (5) $\\quad$ $y(t) = at^be^{-ct}$ \n",
    "   * (6) $\\quad$ An equation $y(t)$ that satisfies $y'=a\\left(\\displaystyle 1 - \\frac{y}{b}\\right)y$ \n",
    "\n",
    "1. _Moore's law_ says that the processing power of computers roughly doubles every 2 years. Let $y(t)$ be processing power,\n",
    "where $t$ is in years from the current time.\n",
    "\n",
    "    (a) If Moore's Law is true, which of the Equations (1) to (6) best models $y$? Briefly justify your answer.\n",
    "\n",
    "    (b) Some experts predict that processing power will continue to increase, but at a continually decreasing rate. If so, which equation could best model $y$? Briefly justify your answer.\n",
    "\n",
    "    (c) Sketch rough graphs of your equations from Parts (a) and (b) on a single set of axes with appropriate labels, clearly identifying each graph.\n",
    "\n",
    "\n",
    "2. In _autocatalytic_ chemical reactions, one or more reaction \n",
    "products catalyse the reaction, so the rate of reaction at any time is proportional to \n",
    "both the amount of reaction product and the amount of original substance\n",
    "remaining. [_Tin pest_](https://en.wikipedia.org/wiki/Tin_pest) is an autocatalytic chemical reaction in which the element \n",
    "tin transforms to a brittle form. \n",
    "\n",
    "   In a certain experiment, the **proportion** of a tin sample that is in brittle form is initially 1 %. Over time this proportion initially rises slowly, then rises at an increasing rate until half of the sample is in brittle form, and then this proportion rises more slowly and gradually approaches 100 %.\n",
    "\n",
    "   Let $y(t)$ be the proportion of the tin sample that is in the brittle form at any time $t$.\n",
    "\n",
    "    (a) Which of the Equations (1) to (6) best models $y$? Briefly justify your answer.\n",
    "\n",
    "    (b) Chemists trial a treatment for tin that may reduce the effect of tin pest. In a treated tin sample, the reaction still follows the same general mechanism but occurs with a slower reaction rate, and a state with 60 % of the tin in brittle form is ultimately approached, rather than 100 %.\n",
    "\n",
    "    This reaction will be modelled by the same equation as in Part A. \n",
    "    Explain whether the values of any constants would be larger than, unchanged, or smaller than those in Part A, and why.\n",
    "\n",
    "    (c) Sketch rough graphs of your equations from Parts (a) and (b) on a single set of axes with appropriate labels, clearly identifying each graph. Mark any values that you know.\n"
   ]
  },
  {
   "cell_type": "markdown",
   "metadata": {},
   "source": [
    " "
   ]
  }
 ],
 "metadata": {
  "anaconda-cloud": {},
  "celltoolbar": "Raw Cell Format",
  "kernelspec": {
   "display_name": "Python 3 (ipykernel)",
   "language": "python",
   "name": "python3"
  },
  "language_info": {
   "codemirror_mode": {
    "name": "ipython",
    "version": 3
   },
   "file_extension": ".py",
   "mimetype": "text/x-python",
   "name": "python",
   "nbconvert_exporter": "python",
   "pygments_lexer": "ipython3",
   "version": "3.13.9"
  }
 },
 "nbformat": 4,
 "nbformat_minor": 4
}
