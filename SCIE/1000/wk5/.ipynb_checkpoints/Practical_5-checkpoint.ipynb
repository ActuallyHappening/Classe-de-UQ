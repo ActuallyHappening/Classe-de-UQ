{
 "cells": [
  {
   "cell_type": "markdown",
   "metadata": {},
   "source": [
    "###### SCIE1000/1100 Practical 5 - Semester 2, 2025 #"
   ]
  },
  {
   "cell_type": "markdown",
   "metadata": {},
   "source": [
    "##### This practical focusses on the following material: \n",
    "- Science and modelling content from Lecture 5.\n",
    "- Python from Appendix A.\n",
    "\n",
    "Please review any course material you may have missed prior to class.\n"
   ]
  },
  {
   "cell_type": "markdown",
   "metadata": {},
   "source": [
    "**This practical contributes toward your final grade.  Practical grading is explained in the Practical exercises folder on Blackboard**\n",
    "\n",
    "**Goals**:  In this practical you will work through some questions that utilise exponential and logarithmic functions to model scientific scenarios.  As usual, the broad concepts and techniques are more\n",
    "important than the specific examples. Do not try to commit lots of facts to\n",
    "memory; instead, know **how** to do things, and **when** certain models\n",
    "and approaches are appropriate.\n",
    "\n",
    "The aim of the computing component of this practical is to review the key Python concepts covered so far in the course.\n",
    "Support for these Python concepts is available: see Appendix A of the course notes, ask on the course discussion board, make use of lecturer office hours, or attend the Python Class."
   ]
  },
  {
   "cell_type": "markdown",
   "metadata": {},
   "source": [
    "## Part 1: Modelling with exponentials (60 minutes) ##"
   ]
  },
  {
   "cell_type": "markdown",
   "metadata": {},
   "source": [
    "#### Task 1.1: Algae Growth ####\n",
    "\n",
    "(This question is adapted from the final examination in 2008.)\n",
    "\n",
    "Two species of algae have population sizes which are growing exponentially. Species A\n",
    "has an initial population of 1000 per mL, and Species B has an initial\n",
    "population of 3000 per mL. The growth rate of Species A is 3 % per hour, \n",
    "and the growth rate of Species B is 1 % per hour.\n",
    "   1. Write down the exponential equations for each of the populations of the species, $P_A$ and $P_B$, as a function of time. Ensure you quote relevant units.\n",
    "\n",
    "\n",
    "   2. At what time will the population sizes be equal?"
   ]
  },
  {
   "cell_type": "code",
   "execution_count": 9,
   "metadata": {},
   "outputs": [
    {
     "name": "stdout",
     "output_type": "stream",
     "text": [
      "A(0)=1000.0, A(1)=1030.0, A(2)=1060.8999999999999, A(10)=1343.9163793441223\n",
      "B(0)=3000.0, B(1)=3030.0, B(2)=3060.3, B(10)=3313.8663762336137\n"
     ]
    }
   ],
   "source": [
    "from math import e, log, log as ln\n",
    "\n",
    "\n",
    "a_i = 1000 # pop./ml\n",
    "\n",
    "#' A(t hours) -> pop.\n",
    "def A(t_hours) -> float:\n",
    "    b = ln(1.03)\n",
    "    return a_i * e ** (b * t_hours)\n",
    "\n",
    "print(f\"{A(0)=}, {A(1)=}, {A(2)=}, {A(10)=}\")\n",
    "\n",
    "b_i = 3000 # pop./ml\n",
    "\n",
    "def B(t_hours) -> float:\n",
    "    b = ln(1.01)\n",
    "    return b_i * e ** (b * t_hours)\n",
    "\n",
    "print(f\"{B(0)=}, {B(1)=}, {B(2)=}, {B(10)=}\")\n"
   ]
  },
  {
   "cell_type": "markdown",
   "metadata": {},
   "source": [
    "#### Task 1.2: Linear, Log-Lin and Log-Log Plots ####\n",
    "\n",
    "In this task you use algebra, the laws of exponents and the laws of logarithms to explain some very useful observations about graphing data.\n",
    "\n",
    "Suppose that we collect data on two variables, $y$ and $t$.  We have reason to believe that $y$ is dependent on $t$.  What type of function would you suggest for modelling $y$ as a function of $t$ in each of the following situations?  Justify your answers using algebra, the laws of exponents and the laws of logarithms.\n",
    "\n",
    "1. The plot of $\\ln(y)$ against $\\ln(t)$ looks like a straight line.\n",
    "\n",
    "\n",
    "2. The plot of $y$ against $t$ looks like a straight line.\n",
    "\n",
    "\n",
    "3. The plot of $\\ln(y)$ against $t$ looks like a straight line.\n",
    "\n",
    "\n",
    "4.  Discuss with your neighbours how you can make use of parts (1) (2) and (3) of this task to work out which type of function to fit to the data in the simulations provided in this SOMSE module: [Test Your Skills](https://teaching.smp.uq.edu.au/SCIE1000/index.html#topic=modelling-with-functions&lecture=fit).\n",
    "\n"
   ]
  },
  {
   "cell_type": "code",
   "execution_count": null,
   "metadata": {},
   "outputs": [],
   "source": [
    "from math import e, log, log as ln\n",
    "\n",
    "ln(y) = Aln(t) + B\n",
    "y = e**B * t**A\n",
    "y = Ct**A"
   ]
  },
  {
   "cell_type": "markdown",
   "metadata": {},
   "source": [
    "#### Task 1.3: Zika Virus ####\n",
    "\n",
    "A study of outbreaks of the mosquito-transmitted Zika virus by Zhao et al (2019) was conducted in Brazil from 2015 to 2016. The number of seasonal human Zika cases was monitored across eight states. The following log-linear graph shows the weekly Zika case numbers recorded in the state of Acre against the time after the first detected case (run the code below if the graph is not visible).\n",
    "\n",
    "1. Use the graph to find a linear equation relating the natural logarithm of the number of cases to time. Ensure that you quote values for any constants that you obtain.\n",
    "\n",
    "2. Convert your linear equation to an exponential equation of the form $y = Ce^{kx}$. Note that $\\log(y) = \\log(Ce^{kx}) = \\log(C) + kx$.\n",
    "\n",
    "3. Use your equation to find the doubling time for the increase in Zika cases in Acre in this outbreak. Explain the steps you took to achieve this.\n",
    "\n",
    "4. Would you expect this model to be accurate over longer time frames? What might limit the applicability of the model?\n",
    "\n",
    "Reference: Zhao, S., Musa, S.S., Fu, H., He, D., Qin, J. (2019) Simple framework for real-time forecast in a data-limited situation:\n",
    "the Zika virus (ZIKV) outbreaks in Brazil from 2015 to 2016 as an example. Parasites Vectors 11, 245–258.\n"
   ]
  },
  {
   "cell_type": "code",
   "execution_count": 14,
   "metadata": {},
   "outputs": [
    {
     "name": "stdout",
     "output_type": "stream",
     "text": [
      "x=2.100446001696804\n"
     ]
    }
   ],
   "source": [
    "from math import log as ln, e\n",
    "\n",
    "x = (ln(2)) / 0.33\n",
    "print(f\"{x=}\")\n",
    "\n",
    "# Q4\n",
    "# This is probably not accurate over large timeframes, as the total number of humans in the community will eventually plateau"
   ]
  },
  {
   "cell_type": "code",
   "execution_count": 10,
   "metadata": {},
   "outputs": [
    {
     "data": {
      "image/png": "[encoded data removed]",
      "text/plain": [
       "<Figure size 640x480 with 1 Axes>"
      ]
     },
     "metadata": {},
     "output_type": "display_data"
    }
   ],
   "source": [
    "# AUC calculation - Zika in Brazil\n",
    "import numpy as np\n",
    "import matplotlib.pyplot as plt\n",
    "\n",
    "time = np.array([0, 4, 7, 11, 14, 17])\n",
    "N = np.array([1, 2, 7, 38, 63, 135])\n",
    "ln_N = np.log(N)\n",
    "\n",
    "plt.plot(time,ln_N,'o')\n",
    "plt.xlim(([3,18]))\n",
    "plt.xticks(np.arange(3, 21, 3))\n",
    "plt.ylim([0,5])\n",
    "plt.xlabel('Time after the first case (weeks)')\n",
    "plt.ylabel('Natural logarithm of weekly case numbers')\n",
    "plt.grid()\n",
    "plt.show()\n"
   ]
  },
  {
   "cell_type": "markdown",
   "metadata": {},
   "source": [
    "## Part 2: Conditionals and Loops (20 minutes) ##"
   ]
  },
  {
   "cell_type": "markdown",
   "metadata": {},
   "source": [
    "#### Task 2.1: Plant Height #### \n",
    "\n",
    "A model for plant height is based upon the amount of light received on a daily basis. Suppose that a fast growing plant will increase 3cm in height on days with high light levels, 2cm on days with moderate light levels 1cm on days with low light levels. This model assumes all other factors affecting growth are within acceptable ranges. The initial height of the plant is 10cm.\n",
    "\n",
    "Create a loop that calcuates the plant height each day for 4 days, by asking the user to enter the light level daily. Your loop should print out the height each day, in an easy to read format. Include a final print statement to display the height of the plant after 4 days."
   ]
  },
  {
   "cell_type": "code",
   "execution_count": 19,
   "metadata": {},
   "outputs": [
    {
     "name": "stdin",
     "output_type": "stream",
     "text": [
      "Light level (3 = high, 2 = moderate, 1 = low):  1\n",
      "Light level (3 = high, 2 = moderate, 1 = low):  1\n",
      "Light level (3 = high, 2 = moderate, 1 = low):  1\n",
      "Light level (3 = high, 2 = moderate, 1 = low):  1\n"
     ]
    },
    {
     "name": "stdout",
     "output_type": "stream",
     "text": [
      "Final height: 14cm\n"
     ]
    }
   ],
   "source": [
    "### Test the code here\n",
    "i = 10\n",
    "current = i\n",
    "for _ in range(0, 4):\n",
    "    light_level = int(input(\"Light level (3 = high, 2 = moderate, 1 = low): \"))\n",
    "    match light_level:\n",
    "        case 3:\n",
    "            current = current + 3\n",
    "        case 2:\n",
    "            current = current + 2\n",
    "        case 1:\n",
    "            current = current + 1\n",
    "        case _:\n",
    "            raise ValueError(\"Must type a number between 1 and 3 inclusive\")\n",
    "print(f\"Final height: {current}cm\")"
   ]
  },
  {
   "cell_type": "markdown",
   "metadata": {},
   "source": [
    "#### Task 2.2: Water cooling ####\n",
    "\n",
    "In a simple model, heated water cools linearly at a rate of 2°C per minute, until it reaches room temperature (which we will assume is 20°C). \n",
    "\n",
    "1. Write a loop that takes a starting temperature input by the user, and shows water cooling over time.\n",
    "\n",
    "2. Water above 40°C is too hot to touch. Add a conditional to the loop that outputs a warning statement when the water is still too hot to touch.\n",
    "\n",
    "Make sure you consider good communication in this exercise - both in terms of communicating with the user, and comments within the code.\n"
   ]
  },
  {
   "cell_type": "code",
   "execution_count": 21,
   "metadata": {},
   "outputs": [
    {
     "name": "stdin",
     "output_type": "stream",
     "text": [
      "What is the starting temp in °C:  88\n"
     ]
    },
    {
     "name": "stdout",
     "output_type": "stream",
     "text": [
      "Water temp. currently 88°C\n",
      "Water is too hot to touch!\n",
      "Water temp. currently 86°C\n",
      "Water is too hot to touch!\n",
      "Water temp. currently 84°C\n",
      "Water is too hot to touch!\n",
      "Water temp. currently 82°C\n",
      "Water is too hot to touch!\n",
      "Water temp. currently 80°C\n",
      "Water is too hot to touch!\n",
      "Water temp. currently 78°C\n",
      "Water is too hot to touch!\n",
      "Water temp. currently 76°C\n",
      "Water is too hot to touch!\n",
      "Water temp. currently 74°C\n",
      "Water is too hot to touch!\n",
      "Water temp. currently 72°C\n",
      "Water is too hot to touch!\n",
      "Water temp. currently 70°C\n",
      "Water is too hot to touch!\n",
      "Water temp. currently 68°C\n",
      "Water is too hot to touch!\n",
      "Water temp. currently 66°C\n",
      "Water is too hot to touch!\n",
      "Water temp. currently 64°C\n",
      "Water is too hot to touch!\n",
      "Water temp. currently 62°C\n",
      "Water is too hot to touch!\n",
      "Water temp. currently 60°C\n",
      "Water is too hot to touch!\n",
      "Water temp. currently 58°C\n",
      "Water is too hot to touch!\n",
      "Water temp. currently 56°C\n",
      "Water is too hot to touch!\n",
      "Water temp. currently 54°C\n",
      "Water is too hot to touch!\n",
      "Water temp. currently 52°C\n",
      "Water is too hot to touch!\n",
      "Water temp. currently 50°C\n",
      "Water is too hot to touch!\n",
      "Water temp. currently 48°C\n",
      "Water is too hot to touch!\n",
      "Water temp. currently 46°C\n",
      "Water is too hot to touch!\n",
      "Water temp. currently 44°C\n",
      "Water is too hot to touch!\n",
      "Water temp. currently 42°C\n",
      "Water is too hot to touch!\n",
      "Water temp. currently 40°C\n",
      "Water is too hot to touch!\n",
      "Water temp. currently 38°C\n",
      "Water temp. currently 36°C\n",
      "Water temp. currently 34°C\n",
      "Water temp. currently 32°C\n",
      "Water temp. currently 30°C\n",
      "Water temp. currently 28°C\n",
      "Water temp. currently 26°C\n",
      "Water temp. currently 24°C\n",
      "Water temp. currently 22°C\n",
      "Water temp. finally 20°C\n"
     ]
    }
   ],
   "source": [
    "# Write your code here\n",
    "\n",
    "starting = int(input(\"What is the starting temp in °C: \"))\n",
    "current = starting\n",
    "while current > 20:\n",
    "    print(f\"Water temp. currently {current}°C\")\n",
    "    if current >= 40:\n",
    "        print(f\"Water is too hot to touch!\")\n",
    "    current = current - 2\n",
    "print(f\"Water temp. finally {current}°C\")\n"
   ]
  },
  {
   "cell_type": "markdown",
   "metadata": {},
   "source": [
    "#### Task 2.3: Discussion ####\n",
    "\n",
    "How did you decide whether to use a for loop or a while loop for each of the previous tasks. Within your groups, have a discussion about determining when a for loop is appropriate, and when a while loop is a better choice."
   ]
  },
  {
   "cell_type": "markdown",
   "metadata": {},
   "source": [
    "## Part 3: Problem solving with classmates (30 minutes) ##\n",
    "\n",
    "For these problems you will need to have discussions with a small group."
   ]
  },
  {
   "attachments": {},
   "cell_type": "markdown",
   "metadata": {},
   "source": [
    "#### Task 3.1: Species-area curve using log-log plots ####\n",
    "\n",
    "In this task we will make a log-log plot of the data obtained from the 4 hectare property discussed in an earlier in the semester.  This will help us to critically evaluate the modelling used.  This task relates to observations you made in Workshops about log-log plots.\n",
    "\n",
    "**Note:** In Python, np.log(x) means the natural logarithm of x, and np.log10(x) means the logarithm base 10 of x.  Below, we use np.log(x).\n",
    "\n",
    "\n",
    "\n",
    "1. Run the code cell below.  Do you think that the model is a good fit to the data in the first plot shown?\n",
    "\n",
    "\n",
    "2. Notice that for the second plot, we omitted the first entry in each of the arrays num_cells_examined and num_species_observed.  Why was this necessary?\n",
    "\n",
    "\n",
    "3. Does the log-log plot look like the data follows a linear model?  What does that mean for the original data? \n",
    "\n",
    "\n",
    "4. Do you think the linear model shown in the second plot is a good fit to the log-log plot? \n",
    "\n",
    "\n",
    "5. Using the model $S = 5 a^{0.3}$ to model the original data set, what are the values of the slope and y-intercept of the linear model seen in the second plot? \n",
    "\n",
    "6. Using the log-log plot below to visualise a new line of best fit (trend line). Fit a new linear model by hand to the log-log plot, and use this to develop constants for the power model, $M$ and $p$.\n",
    "\n",
    "7. Update the model in the code below that we are using from $S = 5 a^{0.3}$ using the new constants  $M$ and $p$ you have calculated. Run the code again.  Does this give a better overall fit?      \n"
   ]
  },
  {
   "cell_type": "code",
   "execution_count": 30,
   "metadata": {},
   "outputs": [
    {
     "data": {
      "image/png": "[encoded data removed]",
      "text/plain": [
       "<Figure size 640x480 with 1 Axes>"
      ]
     },
     "metadata": {},
     "output_type": "display_data"
    },
    {
     "name": "stdout",
     "output_type": "stream",
     "text": [
      "A log-log plot of the data\n"
     ]
    },
    {
     "data": {
      "image/png": "[encoded data removed]",
      "text/plain": [
       "<Figure size 640x480 with 1 Axes>"
      ]
     },
     "metadata": {},
     "output_type": "display_data"
    }
   ],
   "source": [
    "import numpy as np\n",
    "import matplotlib.pyplot as plt\n",
    "from math import e\n",
    "\n",
    "# Data collected on the number of distinct, naturally occurring native plant species\n",
    "# (of height at least 2m) occurring in a four hectare property in Eastern Brisbane\n",
    "# 30 cells (each 10m by 10m) were selected at random \n",
    "# and the cumulative total count of species was recorded\n",
    "Num_Cells_Examined = np.array([0, 1, 2, 3, 4, 5, 6, 7, 8, 9, 10, 15, 20, 30])\n",
    "Num_Species_Observed = np.array([0, 3, 5, 6, 8, 8, 9, 9, 9, 10, 10, 12, 12, 14])\n",
    "\n",
    "a_values = np.arange(0, 30.1, 0.1)\n",
    "\n",
    "# M = 5 #power model scaling constant\n",
    "M = e ** 1.1\n",
    "# p = 0.3 #power model power constant\n",
    "p = 1.55 / 3.4\n",
    "m_values = M*a_values**p\n",
    "\n",
    "# plot the data together with a power model\n",
    "plt.plot(Num_Cells_Examined, Num_Species_Observed, 'kx', markersize=8, mew=3, label = \"Data\")\n",
    "plt.plot(a_values, m_values, 'b-', linewidth=2, label = \"Model\")\n",
    "plt.title(\"Species-area curve for tree biodiversity\")\n",
    "plt.xlabel(\"Number of cells\")\n",
    "plt.ylabel(\"Number of species\")\n",
    "plt.grid(True)\n",
    "plt.legend(loc='lower right')\n",
    "plt.show()\n",
    "\n",
    "print(\"A log-log plot of the data\")\n",
    "# first remove (0,0) from the original data\n",
    "num_cells_examined = np.array([1, 2, 3, 4, 5, 6, 7, 8, 9, 10, 15, 20, 30])\n",
    "num_species_observed = np.array([3, 5, 6, 8, 8, 9, 9, 9, 10, 10, 12, 12, 14])\n",
    "\n",
    "a_values = np.arange(1, 30.1, 0.1)\n",
    "m_values = M*a_values**p\n",
    "\n",
    "# note that np.log in python has base e\n",
    "log_num_cells_examined = np.log(num_cells_examined)\n",
    "log_num_species_observed = np.log(num_species_observed)\n",
    "\n",
    "log_a_values = np.log(a_values)\n",
    "log_m_values = np.log(m_values)\n",
    "\n",
    "plt.plot(log_num_cells_examined, log_num_species_observed, 'kx', markersize=8, mew=3, label = \"Data\")\n",
    "plt.plot(log_a_values, log_m_values, 'b-', linewidth=2, label = \"Model\")\n",
    "plt.title(\"log-log plot of species-area curve for tree biodiversity\")\n",
    "plt.xlabel(\"ln(Number of cells)\")\n",
    "plt.ylabel(\"ln(Number of species)\")\n",
    "plt.grid(True)\n",
    "plt.legend(loc='lower right')\n",
    "plt.show()\n",
    "\n"
   ]
  },
  {
   "cell_type": "markdown",
   "metadata": {},
   "source": [
    "## Part 4: Further problems ##\n",
    "\n",
    "These problems are provided for further practice either during or after the practical."
   ]
  },
  {
   "cell_type": "markdown",
   "metadata": {},
   "source": [
    "#### Task 4.1: Bacteria Growth ####\n",
    "\n",
    "(This question was on the final examination in 2010.)\n",
    "\n",
    "\n",
    "A species of bacterium reproduces by individuals splitting into \n",
    "two. A population of this bacterium has a constant doubling time. At time $t=0$ \n",
    "hours the population is $10^4$ individuals, and at time $t=5$ hours the \n",
    "population is $10^5$ individuals.\n",
    "   1. How many generations are there in moving from $t=0$ to $t=5$\n",
    "(i.e. how many doubling steps are there in this time frame)?\n",
    "\n",
    "\n",
    "   2. Find the doubling time of this population.\n",
    "\n",
    "\n",
    "   3. At what time will there be $10^8$ individuals in the population?\n"
   ]
  },
  {
   "cell_type": "code",
   "execution_count": 35,
   "metadata": {},
   "outputs": [
    {
     "name": "stdout",
     "output_type": "stream",
     "text": [
      "B=0.4605170185988092, A=10000\n",
      "doubling_time=1.5051499783199058\n",
      "y(0)=10000.0 y(5)=100000.00000000001 y(doubling_time)=20000.0\n"
     ]
    }
   ],
   "source": [
    "from math import e, log as ln\n",
    "\n",
    "B = 1 / 5 * ln (10)\n",
    "A = 10** 4\n",
    "print(f\"{B=}, {A=}\")\n",
    "\n",
    "def y(t_hours) -> float:\n",
    "    return A * e ** (B * t_hours)\n",
    "doubling_time = 5 * ln(2) / ln(10)\n",
    "print(f\"{doubling_time=}\")\n",
    "\n",
    "print(f\"{y(0)=} {y(5)=} {y(doubling_time)=}\")"
   ]
  },
  {
   "cell_type": "code",
   "execution_count": null,
   "metadata": {},
   "outputs": [],
   "source": []
  },
  {
   "cell_type": "code",
   "execution_count": null,
   "metadata": {},
   "outputs": [],
   "source": []
  },
  {
   "cell_type": "markdown",
   "metadata": {},
   "source": [
    "#### Task 4.2: World Population ####\n",
    "\n",
    "Use the [_World Fact Book_](https://www.cia.gov/the-world-factbook/) to find Australia's total population, net migration rate, birth rate and death rate.\n",
    "Use these data to answer the following questions.\n",
    "1. What is the current annual percentage growth rate of the Australian population?\n",
    "\n",
    "\n",
    "2. Assuming the population is growing exponentially, and\n",
    "that the exponential growth rate matches your value from Part 1, write a mathematical function that models Australia's \n",
    "population at any time $t$ years from now.\n",
    "\n",
    "\n",
    "3. Calculate the doubling time for the population of Australia, using your equation from Part 2. Recall that the doubling time is the time it takes for the population to double.\n",
    "\n",
    "\n",
    "4. Use your equation from Part 2 to write a program in the following Python cell to\n",
    "display Australia's predicted population each year for an inputted number of \n",
    "years. Save each year's population in an array. Use the program to check your answer to Part 3.\n",
    "\n",
    "\n",
    "5. Data in the World Fact Book show that\n",
    "Japan has a substantially higher death rate \n",
    "than Australia, but people living in Japan also have a higher life\n",
    "expectancy than Australians. Explain briefly why these two facts are not \n",
    "inconsistent."
   ]
  },
  {
   "cell_type": "code",
   "execution_count": 46,
   "metadata": {},
   "outputs": [
    {
     "name": "stdout",
     "output_type": "stream",
     "text": [
      "pop(0)=26768598.0\n",
      "doubling_time=61.686382994966124\n",
      "pop(doubling_time)=53537195.99999999 53537196\n"
     ]
    }
   ],
   "source": [
    "# Write your code here\n",
    "\n",
    "from math import e, log as ln\n",
    "\n",
    "# Q1\n",
    "rate = 0.0113\n",
    "\n",
    "# Q2\n",
    "initial = 26768598 # 2024\n",
    "\n",
    "def pop(years_since_2024) -> float:\n",
    "    return initial * e ** (ln(1 + rate) * years_since_2024)\n",
    "\n",
    "print(f\"{pop(0)=}\")\n",
    "\n",
    "doubling_time = ln(2)/ln(1.0113)\n",
    "print(f\"{doubling_time=}\")\n",
    "\n",
    "print(f\"{pop(doubling_time)=} {initial * 2\n",
    "\n",
    "# Q4\n",
    "# "
   ]
  },
  {
   "cell_type": "markdown",
   "metadata": {},
   "source": [
    " "
   ]
  }
 ],
 "metadata": {
  "anaconda-cloud": {},
  "celltoolbar": "Raw Cell Format",
  "kernelspec": {
   "display_name": "Python 3 (ipykernel)",
   "language": "python",
   "name": "python3"
  },
  "language_info": {
   "codemirror_mode": {
    "name": "ipython",
    "version": 3
   },
   "file_extension": ".py",
   "mimetype": "text/x-python",
   "name": "python",
   "nbconvert_exporter": "python",
   "pygments_lexer": "ipython3",
   "version": "3.13.5"
  }
 },
 "nbformat": 4,
 "nbformat_minor": 4
}
