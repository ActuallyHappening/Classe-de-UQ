{
 "cells": [
  {
   "cell_type": "markdown",
   "metadata": {},
   "source": [
    "# SCIE1000/1100 Practical 1 - Semester 1, 2025 #"
   ]
  },
  {
   "cell_type": "markdown",
   "metadata": {
    "raw_mimetype": "text/markdown"
   },
   "source": [
    "This practical focusses on the following material: \n",
    "- An introduction to science and modelling from Lecture 1\n",
    "- Relationality (Indigenous perspectives)\n",
    "\n",
    "- Python from Appendices A.1 - A.3 *An introduction to Python, variables and input*.\n",
    "\n",
    "Please review any material you may have missed prior to the practical."
   ]
  },
  {
   "cell_type": "markdown",
   "metadata": {},
   "source": [
    "**This practical contributes toward your final grade.  Practical grading is explained in the course profile.**\n",
    "\n",
    "\n",
    "**Goals**<br>\n",
    "Welcome to your first SCIE1000/1100 practical! In this practical you will:\n",
    "* meet your demonstrators and classmates\n",
    "* practice introducing yourself using Aboriginal Terms of Reference\n",
    "* try your hand at communicating science\n",
    "* develop several mathematical models\n",
    "* try some Python programming, or test your existing skills.\n",
    "\n",
    "There may be more questions on the worksheet than you can finish in class; if so, do some of the remaining ones outside class, as they provide excellent further practice.\n",
    "\n",
    "Solutions to these practical tasks will be made available on Blackboard after the final practical of the week.  Make sure that you check these solutions carefully against your working - do this regularly as part of your study; this will be excellent preparation for various assessment items in this course."
   ]
  },
  {
   "cell_type": "markdown",
   "metadata": {},
   "source": [
    "## Part 1: Introductions and Relationality (Indigenous perspectives) (35 minutes) ##"
   ]
  },
  {
   "cell_type": "markdown",
   "metadata": {},
   "source": [
    "#### Task 1.1: About the Practicals ####\n",
    "\n",
    "Your demonstrators will introduce themselves, encourage you to introduce yourself to your classmates, and give some brief information about practicals in SCIE1000/1100. Take some time to get to know your demonstrators and those around you.\n"
   ]
  },
  {
   "cell_type": "markdown",
   "metadata": {},
   "source": [
    "#### Task 1.2: Relationality (Indigenous perspectives) ####\n",
    "Aboriginal knowledge is based on the experience and existence of living on this Land for over 60,000 years. During this period hundreds of Aboriginal Nations developed complex and sophisticated Laws, philosophy, logic, values, practices and traditions, such as governance systems, diplomacy, trade, etc. Australians, other than Aboriginal people, locate their history and logic in places other than the Land that is now called Australia. Non-Indigenous people have missed out on understanding the full history, knowledge and logic of this Land.\n",
    "\n",
    "Respected Elders Dr Mary Graham (Kombumerri) and Dr Lilla Watson (BirriGubba and Gangulu), long-time course developers and lecturers for The University of Queensland, developed a cultural competency framework which introduces the concept of bringing non-Indigenous peoples over to working and thinking within ‘Aboriginal Terms of Reference’. This means not only increasing knowledge of Aboriginal culture but most importantly understanding a different logic and philosophy.\n",
    "\n",
    "Some of the key foundations underpinning Aboriginal Terms of Reference:\n",
    "- Non-hierarchical structures; equal Genders and Elders an authority\n",
    "- Formal Age and Gender structured balance, recognition and respect \n",
    "- Custodial Ethic: looking after Country, looking after kin\n",
    "- Consensus decision making \n",
    "- Positive group dynamics\n",
    "- Land as a moral entity\n",
    "- Spiritual integrity\n",
    "- Primacy of Place\n",
    "- Attending the consensus \n",
    "- Careful management of ego\n",
    "- Identity and Autonomy as an organising principle\n",
    "- Importance of family - especially children and young people \n",
    "- Sharp observational abilities (reading the signs and patterns) \n",
    "- Non-competitiveness and maintenance of harmonious relations \n",
    "- Aboriginal system of logic, time and space (different to Western systems)\n",
    "\n",
    "No matter what part of Australia we come from, when we as Aboriginal people meet another Aboriginal person, often the first thing we want to know is: *“Where do you come from? Who's your mob (family)?”* – not *“What do you do for a living?”* or *“What are you studying”*. This is because human relationships come first.\n",
    "Form groups of ~8 students. \n",
    "\n",
    "Take 5 minutes to generate answers to as many of the following prompts as time allows:\n",
    "1. Say where your parents were born – where are your ancestors from?\n",
    "2. Say where you were born and grew up and if you have any siblings.\n",
    "3. Name the Traditional Owners where you grew up or where you live right now. What do you know about their history? Hint: use online resources like the [AIATSIS map](https://aiatsis.gov.au/explore/map-indigenous-australia) or [Native Land](https://native-land.ca/). \n",
    "4. Identify how many languages you speak.\n",
    "5. Identify where you feel your place or ‘home’ is in this land.\n",
    "\n",
    "After your demonstrator has introduced themselves, take turns within your group introducing yourselves using these prompts. *Please feel free to provide the answers to the questions you feel most comfortable with.*\n",
    "\n",
    "**After everyone has spoken, reflect for a moment:**\n",
    "- Did this feel different from the introductions you did at the start of this prac? How?"
   ]
  },
  {
   "cell_type": "markdown",
   "metadata": {},
   "source": [
    "## Part 2: Modelling and communication (40 minutes) ##"
   ]
  },
  {
   "cell_type": "markdown",
   "metadata": {},
   "source": [
    "#### Task 2.1: Estimation ####\n",
    "\n",
    "Working with a small group, estimate each of the following.  Make sure that you can justify your answers, as the approaches you take are much more important\n",
    "than your numerical answers.  Do not search the internet to answer these questions!\n",
    "1. The number of babies born in the world during a 2 hour SCIE1000 practical; and<br>\n",
    "\n",
    "2. The total amount of pure alcohol consumed by people in Australia in a year (note that a standard drink contains 10 g of alcohol).\n",
    "\n",
    "Write your answers on a piece of paper, and hand it to one of your demonstrators.\n",
    "\n",
    "Your demonstrators will lead a discussion on the range of answers.  The class will come up with consensus estimates of the answers. If you have completed these estimates before the rest of the class, then while you wait for the group discussion, start working on another task. \n"
   ]
  },
  {
   "cell_type": "markdown",
   "metadata": {},
   "source": [
    "#### Task 2.2: Diving depth ####\n",
    "\n",
    "A bird dives from a given height above the ocean to catch a fish under the surface.<br>\n",
    "1. Develop a mathematical model of the depth that the bird can reach into the ocean.\n",
    "Use the techniques that we developed in the lecture (no equations from physics classes are needed).\n",
    "\n",
    "2. Is your model dimensionally consistent (same units on each side of the equation)?\n",
    "\n",
    "3. Compare your model with the models developed by other groups.\n",
    "\n",
    "4. Use generative AI to develop a model. How does this compare with your own model?\n",
    "\n"
   ]
  },
  {
   "cell_type": "markdown",
   "metadata": {},
   "source": [
    "#### Task 2.3: Communicating plastic pollution (based on a past exam question) ####\n",
    "\n",
    "Approximately 8 million tonnes of plastic enter the ocean each year.\n",
    "These break down forming microplastics which are ingested by sea creatures. In a 2018 paper, Smith et al. write: \"Human activity has led to microplastic contamination throughout the marine environment. As a result of widespread contamination, microplastics are ingested by many species of wildlife including fish and shellfish. Because microplastics are associated with chemicals from manufacturing and that sorb from the surrounding environment, there is concern regarding physical and chemical toxicity. Evidence regarding microplastic toxicity and epidemiology is emerging. We characterize current knowledge and highlight gaps. We also recommend\n",
    "mitigation and adaptation strategies targeting the life cycle of microplastics and recommend future research to assess impacts of microplastics on humans. Addressing these research gaps is a critical priority due to the nutritional importance of seafood consumption.\"\n",
    "\n",
    "1. Imagine that all of this plastic is in the form of water bottles each with a mass of about 20 grams. Calculate the average number of water bottles that are discarded into the ocean each year per person. Assume a world population of 7.5 billion people (that is, $7.5 \\times 10^9$ people). Note that one tonne is equivalent to 1000 kg.\n",
    "\n",
    "2. Write down the key dot points that you would use to write a public announcement to the general public about the urgent need for scientific study into the pollution of the oceans by plastic. You may wish to communicate the scale of the plastic pollution problem, why it is a problem, and why it is an urgent priority.\n"
   ]
  },
  {
   "cell_type": "code",
   "execution_count": 10,
   "metadata": {},
   "outputs": [
    {
     "name": "stdout",
     "output_type": "stream",
     "text": [
      "Bottles per year: 4e+12\n",
      "Bottles per person per year: 5.3e+02\n"
     ]
    }
   ],
   "source": [
    "plastic_kg_per_year = 8e6 * 10e3\n",
    "population = 7.5e9\n",
    "kg_per_bottle = 20 / 1000\n",
    "\n",
    "# assume all plastic are bottles\n",
    "bottles_per_year = plastic_kg_per_year / kg_per_bottle\n",
    "print(f\"Bottles per year: {bottles_per_year:.2}\")\n",
    "bottles_per_person_per_year = bottles_per_year / population\n",
    "print(f\"Bottles per person per year: {bottles_per_person_per_year:.2}\")"
   ]
  },
  {
   "cell_type": "markdown",
   "metadata": {},
   "source": [
    "3. We will now consider some sample paragraphs and evaluate them using the following considerations:\n",
    "\n",
    "* Is the communication of information clear and concise?\n",
    "* Is the writing style and choice of vocabulary appropriate for a public audience?\n",
    "* Is the scientific information and key message communicated accurately? <br>\n",
    "\n",
    "Further detail on communication in science is provided in the workbook Appendix B. Take some time upon completion of this practical to look through this Appendix.\n",
    "\n",
    "Rank the following from \"best\" to \"worst\". What specific aspects of a paragraph made it better?\n",
    "\n",
    "**Paragraph A:**\n",
    "Public warning! Plastic is entering the oceans and we must stop this.  The quantities are staggering, with about 8 million tonnes of plastic entering the ocean every single year.  It's hazardous for oceans and human health and we need to study this more.  It's really important that we stop contaminating our oceans with plastic!\n",
    "<br><br>\n",
    "**Paragraph B:**\n",
    "Lots of plastic is entering our oceans - about 8 million tonnes per year!  If all of that plastic was in the form of water bottles, it would be equivalent to every single person on Earth discarding a water bottle each week!  Plastics degrade into tiny plastic pieces called micro-plastics.  Micro-plastics are being ingested by sea creatures and this will likely have an impact on human health because micro-plastics are harmful to humans. Therefore increased scientific study of this problem is urgently needed!\n",
    "<br><br>\n",
    "**Paragraph C:** \n",
    "There's a lot of plastic going into the ocean and this is bad for humans and corals and sea creatures. Lots of habitats in the ocean are getting contaminated. It's probably choking the life out of fish and other creatures. Every person throws about 53 plastic bottles into the ocean every year and that's really got to stop. So make sure you don't throw away plastic because it also gets eaten up by sea creatures.\n",
    "<br><br>\n",
    "See the solutions for a \"best practice\" paragraph.\n"
   ]
  },
  {
   "cell_type": "markdown",
   "metadata": {},
   "source": [
    "#### \n",
    "Paragraph B\n",
    "Paragraph C\n",
    "Paragraph A"
   ]
  },
  {
   "cell_type": "markdown",
   "metadata": {},
   "source": [
    "## Part 3: Programming - introduction (35 minutes) ##"
   ]
  },
  {
   "cell_type": "markdown",
   "metadata": {},
   "source": [
    "#### Task 3.1: Programming - Introduction \n",
    "\n",
    "**This sub-task is for those that have programmed before and feel confident in writing Python programs. Otherwise, skip to the next task.**\n",
    "\n",
    "SCIE1000/1100 is not a programming course, so it is possible that you have seen and learned more Python content than we will cover in this course.  If that is the case, make sure you focus on how Python code is applied to the various scientific context we study throughout semester. \n",
    "\n",
    "Also note that assessment items (particularly the programming and communication assignment) need to be completed using **only the Python developed in this course** - see Appendix A of the course notes for a good summary. \n",
    "\n",
    "Take a bit of time to go through the exercises in the tasks below, so that you can stay up-to-speed with the syntax used in Python 3.  You may also be a useful resource to your classmates in practicals who are using Python for the first time.\n",
    "\n",
    "To check your skills, write a short program to calculate &pi; using the Madhava–Leibniz series to a precision (number of decimal places) specified by user input. Use the _input_ statement for user input, and loops are to be done using the _while_ statement (consult Appendix A of the course notes for commands used in this course).\n"
   ]
  },
  {
   "cell_type": "markdown",
   "metadata": {},
   "source": [
    "#### Task 3.2: Programming - print statements\n",
    "\n",
    "In this course, you will learn the basics of programming using a programming language called Python. As well, you will learn to use Jupyter, an environment where you can write and run code, known as an IDE (Integrated Developer Environment). With Python and Jupyter together, you can write instructions for the computer, and watch what happens when the computer executes those instructions.\n",
    "\n",
    "A simple task we can ask the computer to do is to display a message on the screen. The word we use for this in Python is \"print\" - we want to \"print\" a message. To do this, we need to write a \"print statement\". Below, you will see a box with the text `print(\"Hello World\")` in it. In Jupyter, this box is called a \"cell\" - it is where you will write the instructions for the computer, known as \"code\". \n",
    "\n",
    "**Task**\n",
    "\n",
    "Since the code has already been written for you, have a go \"running\" the cell below. To do this, click on the cell and then press Shift+Enter (or use the \"Run\" icon above)."
   ]
  },
  {
   "cell_type": "code",
   "execution_count": null,
   "metadata": {},
   "outputs": [],
   "source": [
    "print(\"Hello World\")"
   ]
  },
  {
   "cell_type": "markdown",
   "metadata": {},
   "source": [
    "\n",
    "If Jupyter has been set up correctly, you should see the text `Hello World` appear below the cell - this is known as \"output\". (If nothing happened, ask a demonstrator for help.)\n",
    "\n",
    "**Task**\n",
    "\n",
    "Now, it is time to write your own print statement. In the cell below, write a print statement with a message that says \"Hello SCIE1000/1100\". To make sure the print statement works correctly, put quotation marks around your message, and then brackets around that, like so:\n",
    "\n",
    "    print(\"Always remember: brackets on the outside, quotation marks on the inside.\")\n",
    "\n",
    "Then run it!."
   ]
  },
  {
   "cell_type": "code",
   "execution_count": null,
   "metadata": {},
   "outputs": [],
   "source": []
  },
  {
   "cell_type": "markdown",
   "metadata": {},
   "source": [
    "**Task**\n",
    "\n",
    "If you haven't already, try making a mistake. *Edit the cell above so that it is incorrect.* For example, you could try deleting one of the brackets or quotation marks, or capitalising a letter in the word \"print\".\n",
    "\n",
    "When you have successfully made a mistake, you will receive an \"error message\". Error messages are a way for the computer to tell you that it doesn't understand the instructions you have given it. As you progress through this course, try to pay attention to the different error messages you get when you make different mistakes. A common one is a \"Syntax Error\". Syntax is the word we use for the grammar and spelling for a programming language - make sure to use correct Python syntax!\n",
    "\n",
    "**Task**\n",
    "\n",
    "You can put multiple print statements in one cell. They just have to be on different lines. *Run the cell below to see this in action.*\n",
    "\n",
    "Then, *edit the cell* below so that it prints the message \"Cats\" after \"Dogs\", but before \"Birds\"."
   ]
  },
  {
   "cell_type": "code",
   "execution_count": null,
   "metadata": {},
   "outputs": [],
   "source": [
    "print(\"Dogs\")\n",
    "\n",
    "print(\"Birds\")"
   ]
  },
  {
   "cell_type": "markdown",
   "metadata": {},
   "source": [
    "#### Task 3.3: Programming - mathematics\n",
    "\n",
    "**Task**\n",
    "\n",
    "Computers are particularly good at maths, and we can take advantage of this. The cell below will print the result of the expression `2+3`. Run it to see what happens."
   ]
  },
  {
   "cell_type": "code",
   "execution_count": null,
   "metadata": {},
   "outputs": [],
   "source": [
    "print(2 + 3)"
   ]
  },
  {
   "cell_type": "markdown",
   "metadata": {},
   "source": [
    "**Task**\n",
    "\n",
    "Did you notice that we didn't include any quotation marks in the previous cell? In Python, we use quotation marks in a print statement when we want the computer to display the message exactly as it is written. But sometimes, like in the cell above, we want Python to \"evaluate\" something before displaying it. \n",
    "\n",
    "Observe what happens when you run the following cell:"
   ]
  },
  {
   "cell_type": "code",
   "execution_count": null,
   "metadata": {},
   "outputs": [],
   "source": [
    "print(\"8 - 2.2\")\n",
    "print(8 - 2.2)"
   ]
  },
  {
   "cell_type": "markdown",
   "metadata": {},
   "source": [
    "Python saw the quotation marks in the first print statement, so it displayed the text as it was written. But in the second print statement, there were no quotation marks, so it did the maths before displaying it!\n",
    "\n",
    "**Task**\n",
    "\n",
    "Python can do a number of mathematical operations by default, for example:\n",
    "\n",
    "    Addition: +\n",
    "    Subtraction: -\n",
    "    Division: /\n",
    "    Multiplication: *\n",
    "    Power: **\n",
    "    \n",
    "Brackets will also work as expected, along with the order of operations (BOMDAS).\n",
    "\n",
    "In the cell below, print the results of the following expressions (The first two have been written for you!):\n",
    "- (2 plus 3) times 4\n",
    "- 3 to the power of 3 minus 1\n",
    "- 100 divided by 4\n",
    "- 14 times 2.5\n",
    "- 4 to the power of 3\n",
    "- 100 times (1 plus 0.05) to the power of 6\n",
    "\n",
    "Note: Always make sure you have the correct number of brackets. "
   ]
  },
  {
   "cell_type": "code",
   "execution_count": null,
   "metadata": {},
   "outputs": [],
   "source": [
    "print((2 + 3) * 4)\n",
    "print(3**3 - 1)"
   ]
  },
  {
   "cell_type": "markdown",
   "metadata": {},
   "source": [
    "**Task**\n",
    "\n",
    "Usually, Python displays numbers in the standard format, but switches to scientific notation when needed. In Python, scientific notation looks like this: `3.2e5`. This is the same as 3.2x10^5, or 320000. \n",
    "\n",
    "In the following cell we have asked Python to display the expression 1e5. When you run the cell, it will display it as 100000. On the next line, we asked Python to display the expression 1e50, which will appear as \"1e+50\" when you run the cell. The number 1e50 is pretty big, so Python automatically displays it using scientific notation, but the number 100000 is small enough for Python to display it in the standard format.\n",
    "\n",
    "*Edit and run the following cell to figure out how big a number needs to be for Python to automatically display it using scientific notation.* You may have to edit and run the cell a few times before you figure it out!"
   ]
  },
  {
   "cell_type": "code",
   "execution_count": 1,
   "metadata": {},
   "outputs": [
    {
     "name": "stdout",
     "output_type": "stream",
     "text": [
      "100000.0\n",
      "1e+50\n"
     ]
    }
   ],
   "source": [
    "print(1e5)\n",
    "print(1e50)"
   ]
  },
  {
   "cell_type": "markdown",
   "metadata": {},
   "source": [
    "**Task**\n",
    "\n",
    "We can also make small numbers using scientific notation in Python. Just like in the previous exercise, edit the following cell to determine how small a number needs to be for Python to automatically display it using scientific notation. "
   ]
  },
  {
   "cell_type": "code",
   "execution_count": null,
   "metadata": {},
   "outputs": [],
   "source": [
    "print(1e-5)\n",
    "print(1e-50)"
   ]
  },
  {
   "cell_type": "markdown",
   "metadata": {},
   "source": [
    "**Task** \n",
    "\n",
    "Numbers can be too big or too small for Python (without doing anything fancy). \n",
    "\n",
    "When the number is too big, Python will display the number as 'inf' (or '-inf'), short for \"infinite\". When a number is too small, Python will display it as '0.0' (or '-0.0', yes that's somehow a separate thing in many programming languages!).\n",
    "\n",
    "Edit the cell below to see roughly how big/small a number can be before Python outputs something strange or incorrect."
   ]
  },
  {
   "cell_type": "code",
   "execution_count": null,
   "metadata": {},
   "outputs": [],
   "source": [
    "print(1e50)\n",
    "print(1e-50)"
   ]
  },
  {
   "cell_type": "markdown",
   "metadata": {},
   "source": [
    "(For extra fun, multiply 1e500 by 0. The result is $\\texttt{nan}$, which means \"not a number\".)\n",
    "\n",
    "**Task**\n",
    "\n",
    "You can also ask Python to compare two expressions. Run the following cell to see what happens."
   ]
  },
  {
   "cell_type": "code",
   "execution_count": null,
   "metadata": {},
   "outputs": [],
   "source": [
    "print(5 < 3)\n",
    "print(2 <= 4)"
   ]
  },
  {
   "cell_type": "markdown",
   "metadata": {},
   "source": [
    "These are called \"conditions\", and you will learn more about them over the next few weeks. \n",
    "\n",
    "\n",
    "#### Task 3.4: Programming - modules\n",
    "\n",
    "<a id=\"numpy_task\"></a>\n",
    "**Task**\n",
    "\n",
    "With Python in its most basic form, we don't have access to more complicated mathematical functions like sine, pi, e, and more. Run the following Python cell to see what happens when we try to use the sine function like we would on a calculator:"
   ]
  },
  {
   "cell_type": "code",
   "execution_count": null,
   "metadata": {},
   "outputs": [],
   "source": [
    "print(sin(1))"
   ]
  },
  {
   "cell_type": "markdown",
   "metadata": {},
   "source": [
    "You should get an error. Specifically, a \"Name Error\" with the message \"name 'sin' is not defined\". This is Python's way of telling us we have tried to use something it doesn't recognise. \n",
    "\n",
    "This is incredibly inconvenient. What are we supposed to do if it doesn't even know what sine is?\n",
    "\n",
    "**Task**\n",
    "\n",
    "Fortunately, we have a way to tell Python to \"know\" certain useful things. Python comes with a set of \"libraries\" or \"modules\", that can give Python extra functionality. All we have to do is tell Python to \"import\" the library/module we need, and it will know everything stored inside that library/module. You can think of this as telling Python to read a book before running any of your code.\n",
    "\n",
    "The library we use in this course to do more complicated maths is called \"numpy\". To import numpy, we need an \"import statement\". The following cell has the import statement already written for you. Run the cell and see what happens!"
   ]
  },
  {
   "cell_type": "code",
   "execution_count": null,
   "metadata": {},
   "outputs": [],
   "source": [
    "import numpy as np\n",
    "\n",
    "print(np.sin(1))"
   ]
  },
  {
   "cell_type": "markdown",
   "metadata": {},
   "source": [
    "Now that numpy has been imported, Python knows what `sin` is, and is able to use it. "
   ]
  },
  {
   "cell_type": "markdown",
   "metadata": {},
   "source": [
    "**Task**\n",
    "\n",
    "If you were paying close attention, you may have noticed that Python took a little bit longer to run that cell than it did any of the previous ones. This is because it takes a little bit of time for Python to import libraries.\n",
    "\n",
    "*Run the above cell again, and notice how long it takes.* This time, it should run just as fast as the other cells.\n",
    "\n",
    "This is because Jupyter knows that numpy has already been imported, so it wont bother to import it again. Jupyter runs your cells using the \"kernel\", which is that black box that popped up at the start of class. The kernel is like the brain behind Jupyter, whereas this notebook is just the interface. The kernel will remember every cell that you run, in the order that you run them.  \n",
    "\n",
    "While the kernel is trying to be helpful by remembering everything, sometimes it can make your code run strangely. Luckily, we can restart the kernel, effectively wiping its memory and starting from scratch. \n",
    "\n",
    "**Task**\n",
    "\n",
    "*Restarting the kernel.* Note that this will erase the output of all the previous cells where you have run a piece of code!\n",
    "\n",
    "To do this, press \"Kernel\" on the top bar, and then press \"Restart and Clear Output\". A warning will appear, so press the red \"Restart and Clear All Output\" button. You may have to scroll a bit to return to this question once it has finished.\n",
    "\n",
    "Jupyter will take a short amount of time to restart the kernel (a few seconds). In the top bar, on the right hand side (to the left of the word 'trusted'), Jupyter will tell you the status of the kernel. If everything is fine, there will be nothing there. When you restart the kernel, the words \"Restarting kernel\" will appear in that spot. When the kernel has finished restarting, the words \"Kernel ready\" will appear in blue, and then disappear.\n",
    "\n",
    "*Restart the kernel again, and pay close attention to that part of the top bar - it happens quite quickly!*\n",
    "\n",
    "Restarting the kernel can fix some problems you may encounter when using Jupyter, just like turning a computer off and then on again. Make sure to restart the kernel if Jupyter is behaving weirdly and you cannot figure out why! \n",
    "\n",
    "Also, if you are writing a larger program in Jupyter (for example for your Python and communication assignment), then it is highly recommended that you restart the kernel each time you test your code. If you don't restart the kernel then the code may run successfully because of a variable stored in memory, but not run when tested by another user.\n",
    "\n",
    "Forgetting to import important libraries is also another reason your code may not behave as expected. Starting from next week, always make sure you are importing numpy at the top of each of your programs/cells. "
   ]
  },
  {
   "cell_type": "markdown",
   "metadata": {},
   "source": [
    "#### Task 3.5: Programming - communication \n",
    "\n",
    "**Task**\n",
    "\n",
    "You can put multiple expressions inside a single print statement, as long as you separate each expression with a comma. Run the following cell and see what happens."
   ]
  },
  {
   "cell_type": "code",
   "execution_count": null,
   "metadata": {},
   "outputs": [],
   "source": [
    "print(\"Hello\", \"this\", \"is\", \"Python3\", 1, 2, 3)\n",
    "print(\"2+4 =\", 2 + 4)\n",
    "print(\n",
    "    \"After\",\n",
    "    8,\n",
    "    \"seconds, the projectile was travelling at\",\n",
    "    8 * (1 + 2),\n",
    "    \"metres per second.\",\n",
    ")"
   ]
  },
  {
   "cell_type": "markdown",
   "metadata": {},
   "source": [
    "Notice that a comma was used between every single expression, whether the expression used quotation marks or not! Another interesting behaviour is that Python puts a space between every expression separated by a comma.\n",
    "\n",
    "**Task**\n",
    "\n",
    "In the above cell, remove one of the commas between a text output and a number output and run the cell. This is a very common error for students in SCIE1000/1100, so do learn to recognise it.\n",
    "\n",
    "**Task**\n",
    "\n",
    "Use a single print statement in the cell below to communicate the context below (or your own). In doing so, put all numbers by themselves as their own expression, with appropriate commas as per the projectile example above. Make sure to communicate the meaning of your answer, and include units wherever relevant.\n",
    "\n",
    "Example: \n",
    "\n",
    "*We estimated that 2000 kg of potassium was consumed in Brisbane by people eating bananas over the last 5 days.*\n"
   ]
  },
  {
   "cell_type": "code",
   "execution_count": null,
   "metadata": {},
   "outputs": [],
   "source": []
  },
  {
   "cell_type": "markdown",
   "metadata": {},
   "source": [
    "**Task** \n",
    "\n",
    "Sometimes we want to write messages that aren't displayed on the screen, but are instead used to help the programmer understand the code. These are called _comments_, and in Python they start with the # symbol. Whenever Python sees a #, it will ignore everything after it on that line (unless you are doing something fancy).\n",
    "\n",
    "Edit the cell below to include a comment of your own, then run it to make sure it behaves as expected."
   ]
  },
  {
   "cell_type": "code",
   "execution_count": null,
   "metadata": {},
   "outputs": [],
   "source": [
    "# This is a comment\n",
    "\n",
    "# Python will ignore this line\n",
    "print(\"And it will print this one!\")\n",
    "\n",
    "# did you know we can print blank lines?\n",
    "print(\"Check out this blank line:\")\n",
    "print(\"\")\n",
    "\n",
    "# writing print() will also produce a blank line\n",
    "\n",
    "# this line is ignored\n",
    "# print(\"and this line\")\n",
    "print(\"But not this line!\")\n",
    "\n",
    "print(\"Did you notice how each print statement starts on a new line?\")"
   ]
  },
  {
   "cell_type": "markdown",
   "metadata": {},
   "source": [
    "#### Task 3.6: Programming - understanding code\n",
    "\n",
    "Below is a cell with some interesting code. Write down what you think the output would be for this program. This is the kind of question you may be asked in an exam!\n",
    "\n",
    "When you are done, run the program to check your answer."
   ]
  },
  {
   "cell_type": "code",
   "execution_count": null,
   "metadata": {},
   "outputs": [],
   "source": [
    "print(\"Welcome to the roaring 20's\")\n",
    "print(\"Viva\", \"Las\", \"Vegas!\")\n",
    "print(2 * 3, 2 * 4, 2 * 5)\n",
    "print(0.00001, \"0.00001\", 2e0, \"2e0\")\n",
    "print(6 + 4 * 5, \" is not \", (6 + 4) * 5)\n",
    "print(\"\")\n",
    "# print(\"SPAM SPAM SPAM\")\n",
    "print(\"SCIE1000 is fun.\")\n",
    "print(\"I ate \", 2**3, \" apples.\")\n",
    "print(\"-10 > -6\")\n",
    "print(-10 > -6)"
   ]
  },
  {
   "cell_type": "markdown",
   "metadata": {},
   "source": [
    "#### Task 3.7: Programming - Jupyter vs Spyder\n",
    "\n",
    "We will use Jupyter in practicals as it provides a good environment for combining text and code.\n",
    "\n",
    "However, when writing a program from scratch, it is simpler (and more natural) to use an environment designed specifically for developing code. In SCIE1000/1100 we recommend using Spyder for the latter.\n",
    "Try running the simple piece of code below both here in Jupyter (run the cell) as well as in Spyder (copy the code into a new Spyder program)."
   ]
  },
  {
   "cell_type": "code",
   "execution_count": null,
   "metadata": {},
   "outputs": [],
   "source": [
    "# Simple piece of code to test Jupyter/Spyder\n",
    "import numpy as np\n",
    "\n",
    "print(\"Hello World!\")\n",
    "print(1 + 2, 3 * 4, 5**6)\n",
    "print(np.sin(np.pi))"
   ]
  },
  {
   "cell_type": "markdown",
   "metadata": {},
   "source": [
    "#### Task 3.8: Programming - further help\n",
    "\n",
    "In this course, you are provided with a range of different resources for learning Python.\n",
    "\n",
    "Python resources:\n",
    "- Python Appendix A in the course notes\n",
    "- Python Workshops \n",
    "\n",
    "We also recommend that you try to do some programming at home - even just 15 minutes a week will help you a lot!"
   ]
  },
  {
   "cell_type": "markdown",
   "metadata": {},
   "source": [
    "## Part 4: Further problems ##\n",
    "\n",
    "These problems are provided for further practice either during or after the practical."
   ]
  },
  {
   "cell_type": "markdown",
   "metadata": {},
   "source": [
    "#### Task 4.1: Modelling glaucoma (past exam) ####\n",
    "**Information on Glaucoma** (this info was on the reference sheet of a past exam)\n",
    "<br>\n",
    "**Glaucoma**:\n",
    "Glaucoma is a disease of the eye in which the optic nerve at the back of the eye is slowly damaged.\n",
    "This can result in partial or complete vision loss if not detected and treated early.  One of the risk factors for glaucoma is ocular hypertension, an increase in the pressure in the eye, also called the intraocular pressure (IOP). Normal IOP is around 15-20 mmHg, while pressures in the eye above about 20 mmHg are considered to be elevated.\n",
    "<br>\n",
    "**About units of pressure**:\n",
    "The pressure units used when dealing with the eye are typically \"mmHg\" (millimetres of mercury), dating from the days when pressures were measured by observing the height of a column of mercury.\n",
    "Atmospheric pressure is 101 kPa which is equal to 760 mmHg.  A relative pressure is a pressure measured *relative* to atmospheric pressure, as opposed to an *absolute* pressure which is quoted relative to a vacuum. To convert a relative pressure into an absolute pressure, atmospheric pressure must be added to the relative pressure.\n",
    "Hence a relative pressure of $+$10 kPa is the same as an absolute pressure of 111 kPa, while a relative pressure of $-$10 kPa is the same as an absolute pressure of 91 kPa.\n",
    "<br><br>\n",
    "Attempt the following questions which are based on a former exam question.\n",
    "<br>\n",
    "1. Consider a healthy person with an IOP of 18 mmHg, and a person with glaucoma who has an IOP of 25 mmHg. Show how to convert these pressures into values with the units of pascals (Pa).\n",
    "\n",
    "\n",
    "2. Compare the pressures you have calculated with atmospheric pressure (101 kPa). Given that we know that the pressure in the eye is greater than atmospheric pressure, briefly explain why these pressures must be *relative* pressures rather than *absolute pressures*.\n",
    "\n",
    "\n",
    "3. Calculate the *absolute* pressures in the healthy eye and in the diseased eye, *it in units of* mmHg.\n",
    "\n",
    "\n",
    "4. In journal papers on glaucoma, intraocular pressures are almost always quoted as pressures relative to atmospheric pressure (e.g. 15 mmHg). Explain why scientists might prefer to communicate using relative pressures rather than absolute pressures in this scientific context.\n",
    "\n"
   ]
  },
  {
   "cell_type": "code",
   "execution_count": 35,
   "metadata": {},
   "outputs": [
    {
     "name": "stdout",
     "output_type": "stream",
     "text": [
      "health_iop_relative_Pa=2.4e+03\n",
      "glaucoma_iop_relative_Pa=3.3e+03\n",
      "healthy_iop_absolute_mmHg=7.78e+02\n",
      "glaucoma_iop_absolute_mmHg=785.0\n"
     ]
    }
   ],
   "source": [
    "healthy_iop_relative_mmHg = 18.0\n",
    "health_iop_relative_Pa = healthy_iop_relative_mmHg * 133.322\n",
    "print(f\"{health_iop_relative_Pa=:.2}\")\n",
    "\n",
    "glaucoma_iop_relative_mmHg = 25.0\n",
    "glaucoma_iop_relative_Pa = glaucoma_iop_relative_mmHg * 133.322\n",
    "print(f\"{glaucoma_iop_relative_Pa=:.2}\")\n",
    "\n",
    "healthy_iop_absolute_mmHg = healthy_iop_relative_mmHg + 760.0\n",
    "print(f\"{healthy_iop_absolute_mmHg=:.3}\")\n",
    "\n",
    "glaucoma_iop_absolute_mmHg = glaucoma_iop_relative_mmHg + 760.0\n",
    "print(f\"{glaucoma_iop_absolute_mmHg=:.4}\")"
   ]
  },
  {
   "cell_type": "code",
   "execution_count": 49,
   "metadata": {},
   "outputs": [
    {
     "ename": "AssertionError",
     "evalue": "",
     "output_type": "error",
     "traceback": [
      "\u001b[31m---------------------------------------------------------------------------\u001b[39m",
      "\u001b[31mAssertionError\u001b[39m                            Traceback (most recent call last)",
      "\u001b[36mCell\u001b[39m\u001b[36m \u001b[39m\u001b[32mIn[49]\u001b[39m\u001b[32m, line 1\u001b[39m\n\u001b[32m----> \u001b[39m\u001b[32m1\u001b[39m \u001b[38;5;28;01massert\u001b[39;00m \u001b[33mf\u001b[39m\u001b[33m\"\u001b[39m\u001b[38;5;132;01m{\u001b[39;00m\u001b[32m385.0\u001b[39m\u001b[38;5;132;01m:\u001b[39;00m\u001b[33m.2\u001b[39m\u001b[38;5;132;01m}\u001b[39;00m\u001b[33m\"\u001b[39m == \u001b[33m\"\u001b[39m\u001b[33m3.9e+02\u001b[39m\u001b[33m\"\u001b[39m\n",
      "\u001b[31mAssertionError\u001b[39m: "
     ]
    }
   ],
   "source": [
    "assert f\"{385.0:.2}\" == \"3.9e+02\""
   ]
  }
 ],
 "metadata": {
  "anaconda-cloud": {},
  "celltoolbar": "Raw Cell Format",
  "kernelspec": {
   "display_name": "Python 3 (ipykernel)",
   "language": "python",
   "name": "python3"
  },
  "language_info": {
   "codemirror_mode": {
    "name": "ipython",
    "version": 3
   },
   "file_extension": ".py",
   "mimetype": "text/x-python",
   "name": "python",
   "nbconvert_exporter": "python",
   "pygments_lexer": "ipython3",
   "version": "3.13.5"
  }
 },
 "nbformat": 4,
 "nbformat_minor": 4
}
