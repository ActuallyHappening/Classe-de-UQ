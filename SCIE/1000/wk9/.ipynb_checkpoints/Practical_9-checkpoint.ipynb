{
 "cells": [
  {
   "cell_type": "markdown",
   "metadata": {},
   "source": [
    "# SCIE1000/1100 Practical 9 - Semester 2, 2025 #"
   ]
  },
  {
   "cell_type": "markdown",
   "metadata": {},
   "source": [
    "This practical focusses on the following material: \n",
    "- Science and modelling content from Lecture 9.\n",
    "\n",
    "\n",
    "- Python from throughout the course.\n",
    "\n",
    "\n",
    "- Communication building further on the principles that have been introduced.\n",
    "\n",
    "Please review any course material you may have missed prior to the Practical."
   ]
  },
  {
   "cell_type": "markdown",
   "metadata": {},
   "source": [
    "**This practical contributes toward your final grade.  Practical grading is explained in the Practical exercises folder on Blackboard**\n",
    "\n",
    "**Goals**:  In this practical we will look at rates of change and develop our understanding of how Newton's method is applied.\n",
    "\n",
    "The aim of the computing component of this practical is to consolidate your understanding of Python as applied to scientific contexts.\n",
    "Support for these Python concepts is available: see Appendix A of the course notes, ask on the course discussion board, make use of lecturer office hours, or attend the Python Class.\n",
    "\n",
    "In the communication component of this practical, we will continue to use the four principles for effective communication.\n"
   ]
  },
  {
   "cell_type": "markdown",
   "metadata": {},
   "source": [
    "## Part 1: Warm-up activities (30 minutes) ##"
   ]
  },
  {
   "cell_type": "markdown",
   "metadata": {},
   "source": [
    "#### Task 1.1: Modelling ####\n",
    "\n",
    "Consider the following statement:\n",
    "\n",
    "*The brightness of the Moon as seen on Earth varies over a period of 29.5 days. At its brightest, the intensity of the light reflected from the Moon's surface and incident on Earth's surface is about 160 W/m$^2$. At its dimmest, the moon is barely discernible.*\n",
    "\n",
    "Develop a simple mathematical model for the intensity of the light incident on Earth's surface due to the Moon.\n",
    "\n"
   ]
  },
  {
   "cell_type": "markdown",
   "metadata": {},
   "source": [
    "#### Task 1.2: Python programming ####\n",
    "\n",
    "An object is dropped from a height of 50 m. Neglecting air resistance, the height of the object, $h$, can be represented by the function (in SI units)\n",
    "\n",
    "$h = 50 - 4.9t^2$\n",
    "\n",
    "Use the following cell and template code to create a graph of the height of the object as a function of time. Ensure that your graph is correctly labelled."
   ]
  },
  {
   "cell_type": "code",
   "execution_count": null,
   "metadata": {},
   "outputs": [],
   "source": [
    "# Calculation of the height of a falling object\n",
    "\n",
    "import numpy as np\n",
    "import matplotlib.pyplot as plt\n",
    "\n",
    "# Calculate height\n",
    "time = np.arange(0, 4.1, 0.1)\n",
    "height = \n"
   ]
  },
  {
   "cell_type": "markdown",
   "metadata": {},
   "source": [
    "## Part 2: Implementing Newton's method (40 minutes) ##"
   ]
  },
  {
   "cell_type": "markdown",
   "metadata": {},
   "source": [
    "#### Task 2.1: Newton's method - hand calculation ####\n",
    "\n",
    "(This question was on the final examination in 2009.)\n",
    "\n",
    "Consider the problem of finding a value of $t$ for which $e^t-3t = 0$. By hand, apply two\n",
    "steps of Newton's method to calculate $t_1$ and $t_2$, using $t_0 = 0.$\n",
    "Note that if $f(t)=e^t-3t$, then $f'(t)=e^t-3$.\n",
    "If you are unsure of the steps then you can also view the module on [Newton's method](https://teaching.smp.uq.edu.au/SCIE1000/index.html#topic=rates-of-change&lecture=newtons-method)."
   ]
  },
  {
   "cell_type": "markdown",
   "metadata": {},
   "source": [
    "#### Task 2.2: Newton's method - coding ####\n",
    "\n",
    "   1. In lectures we discussed a Python program to implement Newton's method to estimate\n",
    "$\\sqrt{12}$.\n",
    "In this task, you should write yourself a program to find the cube root of 19.\n",
    "Try to do this first without copying the code in the notes.\n",
    "Start by studying the formal description of the algorithm in the workbook: you basically need to \"translate\" the English description of the\n",
    "algorithm into Python. Think about the programming techniques that you have\n",
    "used in previous weeks. Do you need a loop?  What variables do you need? For this task, you should ask the user to\n",
    "input the maximum number of steps to use (rather than setting a tolerance). \n",
    "Recall that the derivative of $x^3$ is $3x^2$.\n",
    "\n",
    "\n",
    "   2. Run your program and ensure that it arrives at the correct solution.\n"
   ]
  },
  {
   "cell_type": "code",
   "execution_count": 14,
   "metadata": {},
   "outputs": [],
   "source": [
    "# Write your program here\n",
    "\n",
    "# Newton's method used to find the cube root of 19.  \n",
    "\n"
   ]
  },
  {
   "cell_type": "markdown",
   "metadata": {},
   "source": [
    "#### Task 2.3: Newton's method - coding (tolerance) ####\n",
    "\n",
    "It can often be a better idea to perform steps of Newton's method by setting a tolerance. How would you adapt the above program to implement Newton's method to solve this problem using a tolerance?"
   ]
  },
  {
   "cell_type": "code",
   "execution_count": null,
   "metadata": {},
   "outputs": [],
   "source": [
    "# Write your program here\n",
    "\n",
    "# Newton's method used to find the cube root of 19.  "
   ]
  },
  {
   "cell_type": "markdown",
   "metadata": {},
   "source": [
    "## Part 3: Application of Newton's method (40 minutes) ##"
   ]
  },
  {
   "cell_type": "markdown",
   "metadata": {},
   "source": [
    "#### Task 3.1: Use of illicit drugs ####\n",
    "\n",
    "(Adapted from a question on the mid-semester examination in 2012.)\n",
    "\n",
    "A publication gives the percentage of Australians of each age\n",
    "from 13 to 82 who had used an illicit drug within the previous year. If $t$\n",
    "is an age in years (so $t>12$ and $t<83$) then the following function $D(t)$ gives a \n",
    "good model of the drug usage data; the derivative $D'(t)$ is also given.\n",
    "$$$$\n",
    "$$D(t)=24(t-12)^2e^{-0.2t}+5$$\n",
    "$$$$\n",
    "$$D'(t)=4.8(t-12)(22-t)e^{-0.2t}$$\n",
    "$$$$\n",
    "\n",
    "   1. When $D'(t) = 0$, it can be shown that $D(t)$ is at a maximum. Use the equations to find the age(s) at which $D'(t)$ equals zero and find the \n",
    "corresponding value(s) of $D$.  Briefly interpret your answer. (Hint: note that $D$ \n",
    "and $D'$ have only been defined for ages between 13 and 82 years.)\n",
    "\n",
    "\n",
    "   2. The following piece of code performs one step of Newton's method to find\n",
    "the age at which $D(t)=20$, using an initial guess of $t = 14$ years.\n",
    "Write down all of the output from the program.\n",
    "\n",
    "          import numpy as np\n",
    "          def FuncDash(t):\n",
    "              Dd = 4.8*(t-12)*(22-t) * np.exp(-0.2*t)\n",
    "              return Dd\n",
    "\n",
    "          def Func(t):\n",
    "              D = 24*(t-12)**2 * np.exp(-0.2*t) + 5 - 20\n",
    "              return D\n",
    "\n",
    "          initT = 14\n",
    "          f = Func(initT)\n",
    "          fd = FuncDash(initT)\n",
    "          newT = initT - f/fd\n",
    "          print(newT, f, fd)\n",
    " \n",
    "\n",
    "\n",
    "   3. Use the cell below to update the code so that it performs ten iterations and prints values at each step and the final result.\n",
    "Explain the physical meaning of this outcome.\n",
    "\n",
    "\n",
    "   4. What would be the result with initial guesses of (a) $t = 22$ years and (b) $t = 40$ years?\n",
    "Explain any differences from the answer with an initial guess of $t = 14$ years.\n"
   ]
  },
  {
   "cell_type": "code",
   "execution_count": 10,
   "metadata": {},
   "outputs": [],
   "source": [
    "# Write your program here\n",
    "\n"
   ]
  },
  {
   "cell_type": "markdown",
   "metadata": {},
   "source": [
    "## Part 4: Further problems ##\n",
    "\n",
    "These problems are provided for further practice either during or after the practical."
   ]
  },
  {
   "cell_type": "markdown",
   "metadata": {},
   "source": [
    "#### Task 4.1: Population growth ####\n",
    "\n",
    "(This question is based on a question that appeared on the final examination in 2013)\n",
    "\n",
    "   1. An exponential model of the population of Niger $N(t)$ in millions\n",
    "at any time $t$ in years since 2010 is \n",
    "$$$$\n",
    "$$N(t)=15.6e^{0.024t}.$$\n",
    "$$$$\n",
    "The corresponding exponential model of the population of Australia is\n",
    "$$$$\n",
    "$$A(t)=22.6e^{0.012t}.$$\n",
    "$$$$\n",
    "Find the time at which $A(t)$ and $N(t)$ are the same.\n",
    "\n",
    "\n",
    "   2. Apply two steps of Newton's method, with an initial estimate of 0 years, to predict the time at which \n",
    "the population of Niger will be 10 million more than the population of Australia.\n",
    "(Note that: the derivative of $Ce^{kt}$ is $kCe^{kt}$; the derivative of a sum is the sum of the derivatives; the derivative of a constant is 0.)\n",
    "\n",
    "\n",
    "   3.  Substitute the value of $t$ you found in part 2 into the equations for $N(t)$ and $A(t)$.  How good is your prediction? If it is not good, suggest what you could do to find a better prediction.    \n"
   ]
  },
  {
   "cell_type": "markdown",
   "metadata": {},
   "source": [
    "#### Task 4.2: Maximum blood alcohol  ####\n",
    "\n",
    "In lectures we saw the following equation for BAC that takes into account the time for alcohol to be absorbed in the disgestive system: \n",
    "\n",
    "$$B=\\displaystyle\\frac{A}{rM}\\times \\left(1-e^{-k t}\\right) \\times 100\\% - 0.015t$$\n",
    "\n",
    "where \n",
    " - $A$ is the amount of alcohol (in grams)\n",
    " - $M$ is the mass of the person (in grams)\n",
    " - $r$ is a unitless proportion of the person's mass which is water \n",
    " - $0.015 %/hr$ is the rate at which alcohol is eliminated from the body\n",
    " - $k$ is the rate at which the body absorbs alcohol, with $k\\approx 6$ hr$^{-1}$ when the stomach contains no food, and $k\\approx 2.3$ hr$^{-1}$ when the stomach contains food.\n",
    " \n",
    "It follows that \n",
    "\n",
    "$$B'(t)=\\displaystyle\\frac{100Ak}{rM}e^{-kt}-0.015.$$\n",
    "\n",
    "$$$$\n",
    "   1. Explain (in words) how to find the time $t_{max}$ at which $B$ reaches its maximum value, $B_{max}$.\n",
    "\n",
    "\n",
    "   2. Find the value of $t_{max}$ for a male of mass 107 kg and height 1.88 m who\n",
    "consumes four standard drinks, with an empty stomach and with food in his stomach. The \n",
    "Widmark factor $r$ for this male is 0.67.\n",
    "\n",
    "\n",
    "   3. Hence find $B_{max}$ for this person for each scenario (food and no food),\n",
    "and comment on your answers."
   ]
  },
  {
   "cell_type": "markdown",
   "metadata": {},
   "source": [
    " "
   ]
  }
 ],
 "metadata": {
  "anaconda-cloud": {},
  "celltoolbar": "Raw Cell Format",
  "kernelspec": {
   "display_name": "Python 3 (ipykernel)",
   "language": "python",
   "name": "python3"
  },
  "language_info": {
   "codemirror_mode": {
    "name": "ipython",
    "version": 3
   },
   "file_extension": ".py",
   "mimetype": "text/x-python",
   "name": "python",
   "nbconvert_exporter": "python",
   "pygments_lexer": "ipython3",
   "version": "3.11.5"
  }
 },
 "nbformat": 4,
 "nbformat_minor": 4
}
