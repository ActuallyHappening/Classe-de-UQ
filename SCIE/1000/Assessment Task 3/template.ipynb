{
 "cells": [
  {
   "cell_type": "code",
   "execution_count": 5,
   "id": "80e118e5",
   "metadata": {},
   "outputs": [
    {
     "name": "stdout",
     "output_type": "stream",
     "text": [
      "  Reference  Vegetation Index\n",
      "-----------  ------------------\n",
      "          1  NDVI\n",
      "          2  gNDVI\n",
      "          3  EVI\n",
      "          4  SAVI\n",
      "          5  NDWI\n"
     ]
    }
   ],
   "source": [
    "import numpy as np\n",
    "from tabulate import tabulate\n",
    "\n",
    "# gNDVI and LAI data\n",
    "gNDVIa = np.array([0.899, 0.826, 0.595, 0.628, 0.542, 0.448, 0.390, 0.343, 0.662, 0.646, 0.666, 0.675, 0.711, \n",
    "                   0.789, .798, 0.778, 0.916, 0.899, 0.759, 0.554, 0.674, 0.469, 0.409, 0.470, 0.425, 0.796, \n",
    "                   0.902, 0.905, 0.888, 0.894])\n",
    "LAI = np.array([6.778, 5.766, 1.632, 2.427, 1.222, 0.435, 0.335, 0.142, 2.050, 1.749, 2.393, 3.406, 3.690, \n",
    "                3.732, 4.895, 5.623, 5.749, 6.142, 4.377, 1.523, 1.548, 0.251, 0.510, 0.527, 0.318, 6.276, 7.113,\n",
    "                6.611, 7.975, 9.213])\n",
    "\n",
    "\n",
    "# gNDVI over time data\n",
    "gNDVIb = np.array([0.381, 0.348, 0.408, 0.542, 0.727, 0.801, 0.806, 0.760, 0.831, 0.748])\n",
    "DOY = np.array([150, 169, 173, 180, 193, 200, 211, 217, 231, 235])\n",
    "\n",
    "#table of VIs to display\n",
    "print(tabulate([[1, 'NDVI'], [2, 'gNDVI'], [3, 'EVI'], [4, 'SAVI'], [5, 'NDWI']], headers=['Reference', 'Vegetation Index']))"
   ]
  },
  {
   "cell_type": "code",
   "execution_count": null,
   "id": "4f250a7e",
   "metadata": {},
   "outputs": [],
   "source": []
  }
 ],
 "metadata": {
  "kernelspec": {
   "display_name": "Python 3 (ipykernel)",
   "language": "python",
   "name": "python3"
  },
  "language_info": {
   "codemirror_mode": {
    "name": "ipython",
    "version": 3
   },
   "file_extension": ".py",
   "mimetype": "text/x-python",
   "name": "python",
   "nbconvert_exporter": "python",
   "pygments_lexer": "ipython3",
   "version": "3.13.7"
  }
 },
 "nbformat": 4,
 "nbformat_minor": 5
}
